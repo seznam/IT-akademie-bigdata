{
 "cells": [
  {
   "cell_type": "markdown",
   "id": "7889da46-a47a-4abe-bb8f-476bc9c15ec5",
   "metadata": {},
   "source": [
    "# 1. Příprava dat"
   ]
  },
  {
   "cell_type": "markdown",
   "id": "07350f23-b03f-4238-a55e-765f92845189",
   "metadata": {
    "id": "07350f23-b03f-4238-a55e-765f92845189"
   },
   "source": [
    "# MIND dataset\n",
    " * Microsoft News Dataset (MIND) is a large-scale dataset for news recommendation research\n",
    " * The training data contains feedback for full slates displayed to users and it was captured during the first 6 days of the 5th week\n",
    "* Additionally, the training data contains history of user interactions with other than news topics\n",
    " * [distribution page](https://msnews.github.io/)\n",
    " * [dataset description](https://github.com/msnews/msnews.github.io/blob/master/assets/doc/introduction.md)\n",
    " * we will work with the smallest variant available\n",
    "\n",
    "# MIND dataset preprocessing\n",
    " - Following notebook processes MIND dataset in order to demonstrate typical recommender system setting in production\n",
    " - Typical Seznam.cz user consumes content from many sources, each source might be separate recommender system or system without machine learning inside:\n",
    "   - [feed recommendation](https://www.seznam.cz/)\n",
    "   - [news recommendation](https://www.novinky.cz/zena/clanek/nicolas-cage-bude-znovu-otcem-popate-zenaty-herec-ceka-dalsiho-potomka-40391884#dop_ab_variant=0&dop_source_zone_name=novinky.web.nexttoart&dop_req_id=CyFCCuy363P-202204061157&dop_id=40391884)\n",
    "   - [fulltext search](https://search.seznam.cz/?q=tesla&oq=tesla&aq=-1&sourceid=szn-HP&ks=7&ms=1348&sgId=MC40ODY5MjE3MTUzMjc3ODE1IDE2NDkyNDYzNzEuMDY3)\n",
    " - Typical recommender system works with limited amount of content (e.g. only news arcticles) yet there is vast amount of consumed content beyond particular recommendation task (e.g. fulltext search) - how to take advantage of such data?\n",
    " - Every article in MIND dataset has specific category - in our recommendation setting we will try and recommend best arcticle from the category `news` and  take other types of articles as separate input to our model as additional data\n",
    " - We will refer to category `news` as as cold-start category and to newly generated dataset as a cold-start dataset because there will be abundance of users with very small or no interaction history\n",
    " - We will also avoid item cold-start - all articles which did not occur in training dataset will be removed \n",
    " - As a result we will obtain following files:\n",
    "  - `behaviors_train.tsv`: training data for news category arcticles prediction\n",
    "    - `slateid` - Slate id.\n",
    "    - `userid` - The anonymous ID of a user.\n",
    "    - `time` - The impression time with format \"MM/DD/YYYY HH:MM:SS AM/PM\".\n",
    "    - `impressions` - List of news displayed in this slate and user's click behaviors on them (1 for click and 0 for non-click). The orders of news in a slate have been shuffled.\n",
    "    - `history` - The news click history (ID list of clicked news) of this user before this slate was displayed. The clicked news articles are ordered by time and are only from category `news`.\n",
    "    - `history_all_categories` - Visited news category history of this user before this slate was displayed. Visited categories are ordered by time.\n",
    "    - `history_all_subcategories` - Visited news subcategories history of this user before this slate was displayed. Visited categoreis are ordered by time.\n",
    "    - `history_all` - The news click history (ID list of clicked news) of this user before this impression. The clicked news articles are ordered by time and contain news from all categories.\n",
    "    - `history_all_title` - Titles of articles from history delimited by `;`\n",
    "   - `behaviors_test.tsv`: testing data for news category arcticles  prediction\n",
    "       - `slateid` - Slate id.\n",
    "       - `userid` - The anonymous ID of a user.\n",
    "       - `time` - The impression time with format \"MM/DD/YYYY HH:MM:SS AM/PM\".\n",
    "       - `impressions` - List of news displayed in this slate and user's click behaviors on them (1 for click and 0 for non-click). The orders of news in a slate have been shuffled.\n",
    "       - `history` - The news click history (ID list of clicked news) of this user before this slate was displayed. The clicked news articles are ordered by time and are only from category `news`.\n",
    "       - `history_all_categories` - Visited news category history of this user before this slate was displayed. Visited categories are ordered by time.\n",
    "       - `history_all_subcategories` - Visited news subcategories history of this user before this slate was displayed. Visited categoreis are ordered by time.\n",
    "       - `history_all` - The news click history (ID list of clicked news) of this user before this impression. The clicked news articles are ordered by time and contain news from all categories.\n",
    "       - `history_all_title` - Titles of articles from history delimited by `;`\n",
    "   - `news_catalogue_train.tsv`: contains articles data filtered only for category `news`\n",
    "   - `auxiliary_data_catalogue_train.tsv`: contains all articles data from training set\n",
    "training testing set\n",
    "   - `categories.tsv`: list of all available articles categories\n",
    "   - `subcategories.tsv`: list of all available articles subcategories\n",
    "\n",
    "\n",
    "\n",
    "\n",
    "\n",
    "\n",
    "\n"
   ]
  },
  {
   "cell_type": "code",
   "execution_count": null,
   "id": "2bWrnLKp5Zhs",
   "metadata": {
    "id": "2bWrnLKp5Zhs"
   },
   "outputs": [],
   "source": [
    "# mount google drive\n",
    "try:\n",
    "    from google.colab import drive\n",
    "\n",
    "    drive.mount('/content/gdrive')\n",
    "    BASE_DIR = \"/content/gdrive/MyDrive/mlprague2022\"\n",
    "    IN_COLAB = True\n",
    "except:\n",
    "    BASE_DIR = \"..\"\n",
    "    IN_COLAB = False"
   ]
  },
  {
   "cell_type": "code",
   "execution_count": null,
   "id": "a2f5b922-a516-4059-9628-86da6f65e319",
   "metadata": {
    "id": "a2f5b922-a516-4059-9628-86da6f65e319"
   },
   "outputs": [],
   "source": [
    "# install processing functionality from github repository\n",
    "!pip install git+https://github.com/seznam/MLPrague-2022.git"
   ]
  },
  {
   "cell_type": "markdown",
   "id": "93261085-f592-4b63-8b75-52839c4c7e13",
   "metadata": {
    "id": "93261085-f592-4b63-8b75-52839c4c7e13"
   },
   "source": [
    "# Load and transform MIND dataset for cold-start scenario"
   ]
  },
  {
   "cell_type": "code",
   "execution_count": null,
   "id": "Yy5CsXTjq93M",
   "metadata": {
    "id": "Yy5CsXTjq93M"
   },
   "outputs": [],
   "source": [
    "# import necessary functionality\n",
    "from collections import Counter\n",
    "\n",
    "import os\n",
    "import numpy as np\n",
    "import pandas as pd\n",
    "import matplotlib.pyplot as plt\n",
    "\n",
    "from mlprague22.dataset import transform_behaviors_to_coldstart"
   ]
  },
  {
   "cell_type": "code",
   "execution_count": null,
   "id": "bb226704-8272-476b-b880-407bbee764eb",
   "metadata": {
    "id": "bb226704-8272-476b-b880-407bbee764eb"
   },
   "outputs": [],
   "source": [
    "COLD_START_CATEGORY = \"news\"\n",
    "MIND_DATA_SOURCE_DIR = \"tmp/mind\"\n",
    "ORIGINAL_TRAIN_INPUT_DIR = os.path.join(BASE_DIR, MIND_DATA_SOURCE_DIR, \"train/\")\n",
    "ORIGINAL_TEST_INPUT_DIR = os.path.join(BASE_DIR, MIND_DATA_SOURCE_DIR, \"test/\")\n",
    "OUTPUT_DIR = os.path.join(BASE_DIR, \"data/mind_cold_start_datasets_basic/\")\n",
    "\n",
    "COLD_START_BEHAVIORS_TRAIN = os.path.join(OUTPUT_DIR, \"behaviors_train.tsv\")\n",
    "COLD_START_BEHAVIORS_TEST = os.path.join(OUTPUT_DIR, \"behaviors_test.tsv\")\n",
    "NEWS_CATALOGUE_TRAIN = os.path.join(OUTPUT_DIR, \"news_catalogue_train.tsv\")\n",
    "NEWS_CATALOGUE_TEST = os.path.join(OUTPUT_DIR, \"news_catalogue_test.tsv\")\n",
    "AUXILIARY_DATA_CATALOGUE_TRAIN = os.path.join(OUTPUT_DIR, \"auxiliary_data_catalogue_train.tsv\")\n",
    "AUXILIARY_DATA_CATALOGUE_TEST = os.path.join(OUTPUT_DIR, \"auxiliary_data_catalogue_test.tsv\")\n",
    "ALL_CATEGORIES_PATH = os.path.join(OUTPUT_DIR, \"categories.tsv\")\n",
    "ALL_SUBCATEGORIES_PATH = os.path.join(OUTPUT_DIR, \"subcategories.tsv\")"
   ]
  },
  {
   "cell_type": "code",
   "execution_count": null,
   "id": "d84a62e4-6807-44be-9b5e-8b5e3195a343",
   "metadata": {
    "id": "d84a62e4-6807-44be-9b5e-8b5e3195a343"
   },
   "outputs": [],
   "source": [
    "! mkdir -p $BASE_DIR\n",
    "! mkdir -p $MIND_DATA_SOURCE_DIR"
   ]
  },
  {
   "cell_type": "markdown",
   "id": "3c2e4227-7960-436b-b073-5adf048d4c9b",
   "metadata": {
    "id": "3c2e4227-7960-436b-b073-5adf048d4c9b"
   },
   "source": [
    "## Install deps, download and unzip original dataset"
   ]
  },
  {
   "cell_type": "code",
   "execution_count": null,
   "id": "14c83c1f-7b49-472a-b52a-264b4a73becd",
   "metadata": {
    "id": "14c83c1f-7b49-472a-b52a-264b4a73becd",
    "tags": []
   },
   "outputs": [],
   "source": [
    "! apt update && apt install unzip\n",
    "\n",
    "! mkdir -p $ORIGINAL_TRAIN_INPUT_DIR\n",
    "! mkdir -p $ORIGINAL_TEST_INPUT_DIR\n",
    "\n",
    "! wget https://mind201910small.blob.core.windows.net/release/MINDsmall_train.zip -O $MIND_DATA_SOURCE_DIR/MINDsmall_train.zip\n",
    "! wget https://mind201910small.blob.core.windows.net/release/MINDsmall_dev.zip -O $MIND_DATA_SOURCE_DIR/MINDsmall_dev.zip\n",
    "\n",
    "! unzip -o $MIND_DATA_SOURCE_DIR/MINDsmall_train.zip -d $ORIGINAL_TRAIN_INPUT_DIR\n",
    "! unzip -o $MIND_DATA_SOURCE_DIR/MINDsmall_dev.zip -d $ORIGINAL_TEST_INPUT_DIR\n",
    "\n",
    "! rm $MIND_DATA_SOURCE_DIR/MINDsmall_train.zip\n",
    "! rm $MIND_DATA_SOURCE_DIR/MINDsmall_dev.zip\n",
    "\n",
    "!mkdir -p $OUTPUT_DIR"
   ]
  },
  {
   "cell_type": "markdown",
   "id": "0ccd2ec0-39aa-40ab-9ca9-11a7dbd52dd9",
   "metadata": {
    "id": "0ccd2ec0-39aa-40ab-9ca9-11a7dbd52dd9"
   },
   "source": [
    "## Load and inspect original data"
   ]
  },
  {
   "cell_type": "code",
   "execution_count": null,
   "id": "70ff7576-8bc3-41ac-9064-0ec7d289fd79",
   "metadata": {
    "id": "70ff7576-8bc3-41ac-9064-0ec7d289fd79"
   },
   "outputs": [],
   "source": [
    "behaviors_train = pd.read_csv(\n",
    "    os.path.join(ORIGINAL_TRAIN_INPUT_DIR, \"behaviors.tsv\"),\n",
    "    sep=\"\\t\",\n",
    "    names=[\"slateid\", \"userid\", \"time\", \"history\", \"impressions\"]\n",
    ")\n",
    "\n",
    "behaviors_train.info()\n",
    "behaviors_train"
   ]
  },
  {
   "cell_type": "code",
   "execution_count": null,
   "id": "3c44cb6d-95bd-4259-bdf9-4d2612c561e2",
   "metadata": {
    "id": "3c44cb6d-95bd-4259-bdf9-4d2612c561e2"
   },
   "outputs": [],
   "source": [
    "behaviors_test = pd.read_csv(\n",
    "    os.path.join(ORIGINAL_TEST_INPUT_DIR, \"behaviors.tsv\"),\n",
    "    sep=\"\\t\",\n",
    "    names=[\"slateid\", \"userid\", \"time\", \"history\", \"impressions\"]\n",
    ")\n",
    "\n",
    "behaviors_test.info()\n",
    "behaviors_test"
   ]
  },
  {
   "cell_type": "code",
   "execution_count": null,
   "id": "d45be867-3849-42d0-9978-49836d842b53",
   "metadata": {
    "id": "d45be867-3849-42d0-9978-49836d842b53"
   },
   "outputs": [],
   "source": [
    "news_train = pd.read_csv(\n",
    "    os.path.join(ORIGINAL_TRAIN_INPUT_DIR, \"news.tsv\"),\n",
    "    sep=\"\\t\",\n",
    "    names=[\"newsid\", \"category\", \"subcategory\", \"title\", \"abstract\", \"url\", \"title_entities\", \"abstract_entities\"]\n",
    ")\n",
    "\n",
    "news_train.info()\n",
    "news_train"
   ]
  },
  {
   "cell_type": "code",
   "execution_count": null,
   "id": "d2285335-510b-432d-aeba-52c359a76153",
   "metadata": {
    "id": "d2285335-510b-432d-aeba-52c359a76153"
   },
   "outputs": [],
   "source": [
    "news_train.category.unique()"
   ]
  },
  {
   "cell_type": "markdown",
   "id": "dc15ff5d-9a85-4beb-8904-7d643e9c0ee8",
   "metadata": {
    "id": "dc15ff5d-9a85-4beb-8904-7d643e9c0ee8"
   },
   "source": [
    "## Transform datasets to cold-start\n",
    " - keep only arcticles with `news` category in the `history` and `impressions` columns "
   ]
  },
  {
   "cell_type": "markdown",
   "id": "9e8955d5-6353-4e28-92d0-b490f693f776",
   "metadata": {
    "id": "9e8955d5-6353-4e28-92d0-b490f693f776"
   },
   "source": [
    "### Transform train dataset"
   ]
  },
  {
   "cell_type": "code",
   "execution_count": null,
   "id": "771282ff-da0d-4079-ba0b-cec91a18aae8",
   "metadata": {
    "id": "771282ff-da0d-4079-ba0b-cec91a18aae8"
   },
   "outputs": [],
   "source": [
    "behaviors_train_ex = transform_behaviors_to_coldstart(behaviors_train, news_train, COLD_START_CATEGORY)"
   ]
  },
  {
   "cell_type": "code",
   "execution_count": null,
   "id": "31939ad0-d699-496f-851d-673baa2e3d1d",
   "metadata": {
    "id": "31939ad0-d699-496f-851d-673baa2e3d1d"
   },
   "outputs": [],
   "source": [
    "behaviors_train_ex.head(5)"
   ]
  },
  {
   "cell_type": "code",
   "execution_count": null,
   "id": "40b4f3c9-443a-468b-8551-98382566a4ca",
   "metadata": {
    "id": "40b4f3c9-443a-468b-8551-98382566a4ca"
   },
   "outputs": [],
   "source": [
    "behaviors_train_ex[\n",
    "    [\n",
    "        \"slateid\",\n",
    "        \"userid\",\n",
    "        \"time\",\n",
    "        \"history\",\n",
    "        \"impressions\",\n",
    "        \"history_all_categories\",\n",
    "        \"history_all_subcategories\",\n",
    "        \"history_all\",\n",
    "    ]\n",
    "].to_csv(COLD_START_BEHAVIORS_TRAIN, sep=\"\\t\", index=False)"
   ]
  },
  {
   "cell_type": "markdown",
   "id": "4caf8983-e32a-4a5e-9b82-1d17f37f2d94",
   "metadata": {
    "id": "4caf8983-e32a-4a5e-9b82-1d17f37f2d94"
   },
   "source": [
    "### Transform test dataset"
   ]
  },
  {
   "cell_type": "code",
   "execution_count": null,
   "id": "1e24f1ed-3267-4c77-990a-48ce02954618",
   "metadata": {
    "id": "1e24f1ed-3267-4c77-990a-48ce02954618"
   },
   "outputs": [],
   "source": [
    "behaviors_test_ex = transform_behaviors_to_coldstart(\n",
    "    behaviors_test, news_train, COLD_START_CATEGORY\n",
    ")"
   ]
  },
  {
   "cell_type": "code",
   "execution_count": null,
   "id": "fd275e6e-d837-4766-b761-f6545788d575",
   "metadata": {
    "id": "fd275e6e-d837-4766-b761-f6545788d575"
   },
   "outputs": [],
   "source": [
    "behaviors_test_ex.head(5)"
   ]
  },
  {
   "cell_type": "code",
   "execution_count": null,
   "id": "c09ce1c3-6f18-41d1-acfb-e8db6ec0d514",
   "metadata": {
    "id": "c09ce1c3-6f18-41d1-acfb-e8db6ec0d514"
   },
   "outputs": [],
   "source": [
    "behaviors_test_ex[\n",
    "    [\n",
    "        \"slateid\",\n",
    "        \"userid\",\n",
    "        \"time\",\n",
    "        \"history\",\n",
    "        \"impressions\",\n",
    "        \"history_all_categories\",\n",
    "        \"history_all_subcategories\",\n",
    "        \"history_all\",\n",
    "    ]\n",
    "].to_csv(COLD_START_BEHAVIORS_TEST, sep=\"\\t\", index=False)"
   ]
  },
  {
   "cell_type": "markdown",
   "id": "aa3f3089-7e76-432a-8392-ee003c501225",
   "metadata": {
    "id": "aa3f3089-7e76-432a-8392-ee003c501225"
   },
   "source": [
    "# Split `news` data to news-only (main catalogue) and non-news-only (auxiliary catalogue)"
   ]
  },
  {
   "cell_type": "code",
   "execution_count": null,
   "id": "2af2c716-bd02-489c-ada1-f738e95d244a",
   "metadata": {
    "id": "2af2c716-bd02-489c-ada1-f738e95d244a"
   },
   "outputs": [],
   "source": [
    "news_train.query(\"category == @COLD_START_CATEGORY\").to_csv(\n",
    "    NEWS_CATALOGUE_TRAIN, sep=\"\\t\", index=False\n",
    ")\n",
    "news_train.to_csv(\n",
    "    AUXILIARY_DATA_CATALOGUE_TRAIN, sep=\"\\t\", index=False\n",
    ")"
   ]
  },
  {
   "cell_type": "markdown",
   "id": "b60a414c-d2dd-4f7c-8556-17a68a333ec9",
   "metadata": {
    "id": "b60a414c-d2dd-4f7c-8556-17a68a333ec9"
   },
   "source": [
    "# Extract all unique [sub]categories"
   ]
  },
  {
   "cell_type": "code",
   "execution_count": null,
   "id": "b648cc1c-a4aa-4f37-a69e-093e4a5b9830",
   "metadata": {
    "id": "b648cc1c-a4aa-4f37-a69e-093e4a5b9830"
   },
   "outputs": [],
   "source": [
    "categories_pd = pd.DataFrame(\n",
    "    list(enumerate(sorted(news_train.category.unique().tolist()))),\n",
    "    columns=[\"order\", \"category\"]\n",
    ")"
   ]
  },
  {
   "cell_type": "code",
   "execution_count": null,
   "id": "1188435e-6895-4326-8f21-65985c96a16f",
   "metadata": {
    "id": "1188435e-6895-4326-8f21-65985c96a16f"
   },
   "outputs": [],
   "source": [
    "categories_pd"
   ]
  },
  {
   "cell_type": "code",
   "execution_count": null,
   "id": "420d5629-0fa3-479d-961c-9aeb1f249c83",
   "metadata": {
    "id": "420d5629-0fa3-479d-961c-9aeb1f249c83"
   },
   "outputs": [],
   "source": [
    "categories_pd.to_csv(ALL_CATEGORIES_PATH, sep=\"\\t\")"
   ]
  },
  {
   "cell_type": "code",
   "execution_count": null,
   "id": "5990ab08-788c-407d-b481-d8aaa7d2210d",
   "metadata": {
    "id": "5990ab08-788c-407d-b481-d8aaa7d2210d"
   },
   "outputs": [],
   "source": [
    "subcategories_pd = pd.DataFrame(\n",
    "    list(enumerate(sorted(news_train.subcategory.unique().tolist()))),\n",
    "    columns=[\"order\", \"subcategory\"]\n",
    ")"
   ]
  },
  {
   "cell_type": "code",
   "execution_count": null,
   "id": "4890199c-c8d2-4148-9f31-776d09914600",
   "metadata": {
    "id": "4890199c-c8d2-4148-9f31-776d09914600"
   },
   "outputs": [],
   "source": [
    "subcategories_pd"
   ]
  },
  {
   "cell_type": "code",
   "execution_count": null,
   "id": "504b2512-522b-46ee-bee4-1ce277271fcf",
   "metadata": {
    "id": "504b2512-522b-46ee-bee4-1ce277271fcf"
   },
   "outputs": [],
   "source": [
    "subcategories_pd.to_csv(ALL_SUBCATEGORIES_PATH, sep=\"\\t\")"
   ]
  }
 ],
 "metadata": {
  "colab": {
   "collapsed_sections": [],
   "name": "Kopie sešitu 001-prepare-dataset.ipynb",
   "provenance": []
  },
  "kernelspec": {
   "display_name": "Python 3 (ipykernel)",
   "language": "python",
   "name": "python3"
  },
  "language_info": {
   "codemirror_mode": {
    "name": "ipython",
    "version": 3
   },
   "file_extension": ".py",
   "mimetype": "text/x-python",
   "name": "python",
   "nbconvert_exporter": "python",
   "pygments_lexer": "ipython3",
   "version": "3.9.7"
  }
 },
 "nbformat": 4,
 "nbformat_minor": 5
}
