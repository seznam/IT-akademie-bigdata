{
 "cells": [
  {
   "cell_type": "markdown",
   "id": "7889da46-a47a-4abe-bb8f-476bc9c15ec5",
   "metadata": {},
   "source": [
    "# 1. Příprava dat\n",
    "---\n",
    "V tutoriálu použijeme data z Microsoft News Dataset (MIND). \n",
    "MIND data patří do veřejné domény a jsou tedy volně použitelná pro výzkumné a výukové účely.\n",
    "Podrobné licenční podmínky pro použití dat jsou popsány na [projektové stránce datové sady](https://msnews.github.io/). \n",
    "Podrobný popis dat je k dispozici v [online dokumentaci datové sady](https://github.com/msnews/msnews.github.io/blob/master/assets/doc/introduction.md)\n",
    "\n",
    "V rámci přípravy dat v tomto notebooku bude provedeno:\n",
    " - vytvoření datových adresářů ve Vašem Google Drive prostoru\n",
    " - stažení datové sady do těchto datových adresářů\n",
    " - ověření, že stažení dat proběhlo bez závad\n",
    " \n",
    "---"
   ]
  },
  {
   "cell_type": "code",
   "execution_count": null,
   "id": "Yy5CsXTjq93M",
   "metadata": {
    "id": "Yy5CsXTjq93M"
   },
   "outputs": [],
   "source": [
    "# import necessary functionality\n",
    "import numpy as np\n",
    "import pandas as pd"
   ]
  },
  {
   "cell_type": "markdown",
   "id": "4397cd1a-b1cb-4c85-8be4-ec635ca92d80",
   "metadata": {
    "tags": []
   },
   "source": [
    "### Vytvoření datových adresářů"
   ]
  },
  {
   "cell_type": "code",
   "execution_count": null,
   "id": "bb226704-8272-476b-b880-407bbee764eb",
   "metadata": {
    "id": "bb226704-8272-476b-b880-407bbee764eb"
   },
   "outputs": [],
   "source": [
    "import os\n",
    "\n",
    "try:\n",
    "    from google.colab import drive\n",
    "\n",
    "    drive.mount('/content/gdrive')\n",
    "    BASE_DIR = \"/content/gdrive/MyDrive/itacademy2022\"\n",
    "    IN_COLAB = True\n",
    "except:\n",
    "    IN_COLAB = False\n",
    "    BASE_DIR = \"..\"\n",
    "\n",
    "MIND_DATA_SOURCE_DIR = \"tmp/mind\"\n",
    "ORIGINAL_TRAIN_INPUT_DIR = os.path.join(BASE_DIR, MIND_DATA_SOURCE_DIR, \"train/\")\n",
    "ORIGINAL_TEST_INPUT_DIR = os.path.join(BASE_DIR, MIND_DATA_SOURCE_DIR, \"test/\")\n",
    "OUTPUT_DIR = os.path.join(BASE_DIR, \"output\")"
   ]
  },
  {
   "cell_type": "code",
   "execution_count": null,
   "id": "14c83c1f-7b49-472a-b52a-264b4a73becd",
   "metadata": {
    "id": "14c83c1f-7b49-472a-b52a-264b4a73becd",
    "tags": []
   },
   "outputs": [],
   "source": [
    "# create data directories\n",
    "! mkdir -p $BASE_DIR\n",
    "! mkdir -p $MIND_DATA_SOURCE_DIR\n",
    "\n",
    "! mkdir -p $ORIGINAL_TRAIN_INPUT_DIR\n",
    "! mkdir -p $ORIGINAL_TEST_INPUT_DIR\n",
    "\n",
    "! mkdir -p $OUTPUT_DIR"
   ]
  },
  {
   "cell_type": "markdown",
   "id": "0a91e529-6c90-4413-a254-155430e381d5",
   "metadata": {},
   "source": [
    "### Stažení datové sady"
   ]
  },
  {
   "cell_type": "code",
   "execution_count": null,
   "id": "9c7acbe6-7a95-41ca-b66f-4589d83b682d",
   "metadata": {},
   "outputs": [],
   "source": [
    "! apt update && apt install unzip\n",
    "\n",
    "! wget https://mind201910small.blob.core.windows.net/release/MINDsmall_train.zip -O $MIND_DATA_SOURCE_DIR/MINDsmall_train.zip\n",
    "! wget https://mind201910small.blob.core.windows.net/release/MINDsmall_dev.zip -O $MIND_DATA_SOURCE_DIR/MINDsmall_dev.zip\n",
    "\n",
    "! unzip -o $MIND_DATA_SOURCE_DIR/MINDsmall_train.zip -d $ORIGINAL_TRAIN_INPUT_DIR\n",
    "! unzip -o $MIND_DATA_SOURCE_DIR/MINDsmall_dev.zip -d $ORIGINAL_TEST_INPUT_DIR\n",
    "\n",
    "! rm $MIND_DATA_SOURCE_DIR/MINDsmall_train.zip\n",
    "! rm $MIND_DATA_SOURCE_DIR/MINDsmall_dev.zip"
   ]
  },
  {
   "cell_type": "markdown",
   "id": "0ccd2ec0-39aa-40ab-9ca9-11a7dbd52dd9",
   "metadata": {
    "id": "0ccd2ec0-39aa-40ab-9ca9-11a7dbd52dd9"
   },
   "source": [
    "### Ověření"
   ]
  },
  {
   "cell_type": "code",
   "execution_count": null,
   "id": "70ff7576-8bc3-41ac-9064-0ec7d289fd79",
   "metadata": {
    "id": "70ff7576-8bc3-41ac-9064-0ec7d289fd79"
   },
   "outputs": [],
   "source": [
    "# read the main train data set\n",
    "behaviors_train = pd.read_csv(\n",
    "    os.path.join(ORIGINAL_TRAIN_INPUT_DIR, \"behaviors.tsv\"),\n",
    "    sep=\"\\t\",\n",
    "    names=[\"slateid\", \"userid\", \"time\", \"history\", \"impressions\"]\n",
    ")\n",
    "behaviors_train.info()\n",
    "behaviors_train"
   ]
  },
  {
   "cell_type": "code",
   "execution_count": null,
   "id": "3c44cb6d-95bd-4259-bdf9-4d2612c561e2",
   "metadata": {
    "id": "3c44cb6d-95bd-4259-bdf9-4d2612c561e2"
   },
   "outputs": [],
   "source": [
    "# read the main test data set\n",
    "behaviors_test = pd.read_csv(\n",
    "    os.path.join(ORIGINAL_TEST_INPUT_DIR, \"behaviors.tsv\"),\n",
    "    sep=\"\\t\",\n",
    "    names=[\"slateid\", \"userid\", \"time\", \"history\", \"impressions\"]\n",
    ")\n",
    "behaviors_test.info()\n",
    "behaviors_test"
   ]
  },
  {
   "cell_type": "code",
   "execution_count": null,
   "id": "d45be867-3849-42d0-9978-49836d842b53",
   "metadata": {
    "id": "d45be867-3849-42d0-9978-49836d842b53"
   },
   "outputs": [],
   "source": [
    "# read the news train data set\n",
    "news_train = pd.read_csv(\n",
    "    os.path.join(ORIGINAL_TRAIN_INPUT_DIR, \"news.tsv\"),\n",
    "    sep=\"\\t\",\n",
    "    names=[\"newsid\", \"category\", \"subcategory\", \"title\", \"abstract\", \"url\", \"title_entities\", \"abstract_entities\"]\n",
    ")\n",
    "news_train.info()\n",
    "news_train"
   ]
  },
  {
   "cell_type": "code",
   "execution_count": null,
   "id": "42ae47c8-3383-45e9-948b-0960637c01d8",
   "metadata": {},
   "outputs": [],
   "source": [
    "# read the news test data set\n",
    "news_test = pd.read_csv(\n",
    "    os.path.join(ORIGINAL_TEST_INPUT_DIR, \"news.tsv\"),\n",
    "    sep=\"\\t\",\n",
    "    names=[\"newsid\", \"category\", \"subcategory\", \"title\", \"abstract\", \"url\", \"title_entities\", \"abstract_entities\"]\n",
    ")\n",
    "news_test.info()\n",
    "news_test"
   ]
  },
  {
   "cell_type": "markdown",
   "id": "a2785e64-866c-4f75-a536-97ea3abb112e",
   "metadata": {},
   "source": [
    "---\n",
    "## HOTOVO    \n",
    "Proběhlo vše bez problémů a data jsou na svém místě?   \n",
    "Co byste měli vidět: \n",
    " - ve výstupních polích čtyř buňek výše se zobrazil obsah čtyř tabulek (které tvoří základ datové sady tutoriálu).\n",
    "\n",
    "Pokud tomu tak není, je nutné před pokračováním tutoriálu problém najít a opravit...\n",
    "\n",
    "Pro pokračování tutorialu se vraťte na [úvodní notebook tutoriálu](https://colab.research.google.com/github/seznam/IT-akademie-bigdata/blob/master/notebooks/000_uvod.ipynb) a pokračujte podle instrukcí bodu 2.\n",
    "\n",
    "---\n",
    "---"
   ]
  },
  {
   "cell_type": "code",
   "execution_count": null,
   "id": "2880af18-faa2-4b0f-be28-c018510d4f7e",
   "metadata": {},
   "outputs": [],
   "source": []
  }
 ],
 "metadata": {
  "colab": {
   "collapsed_sections": [],
   "name": "Kopie sešitu 001-prepare-dataset.ipynb",
   "provenance": []
  },
  "kernelspec": {
   "display_name": "Python 3 (ipykernel)",
   "language": "python",
   "name": "python3"
  },
  "language_info": {
   "codemirror_mode": {
    "name": "ipython",
    "version": 3
   },
   "file_extension": ".py",
   "mimetype": "text/x-python",
   "name": "python",
   "nbconvert_exporter": "python",
   "pygments_lexer": "ipython3",
   "version": "3.7.10"
  }
 },
 "nbformat": 4,
 "nbformat_minor": 5
}
