{
 "cells": [
  {
   "cell_type": "markdown",
   "metadata": {
    "id": "gJQE8l0f1_uL"
   },
   "source": [
    "# Big Data a Machine Learning technologie v praxi - praktická část\n",
    "\n",
    "### Agenda\n",
    "\n",
    "0. Příprava\n",
    "1. Stažení a příprava datové sady\n",
    "2. Analýza dat\n",
    "3. Trénink modelů predikce prokliku"
   ]
  },
  {
   "cell_type": "markdown",
   "metadata": {
    "id": "Pxk9Z1a3pOvQ"
   },
   "source": [
    "### 0. Příprava\n",
    "\n",
    "#### Google Colaboratory\n",
    "\n",
    "V praktické části budeme používat Google Colaboratory aka **Colab** - prostředí pro věděcké výpočty a datov0 experimenty kompatibilní s Jupyter notebook.\n",
    "Na rozdíl od Jupyter notebooku **Colab** nepotřebuje žádné velké nastavování, proto jsme se jej rozhodli pro účely našeho workshopu použít.\n",
    "\n",
    "#### Požadavky\n",
    "- Prohlížeč - doporučujeme Google Chrome\n",
    "- Účet Google \n",
    "  - Pokud nemáte, vytvoření trvá 2 minuty - klikněte [sem](https://support.google.com/accounts/answer/27441?hl=en)\n",
    "- 10 GB volného prostoru na Google drive \n",
    "  - Klikněte [sem](https://drive.google.com/settings/storage)  pro zjištění volného prostoru\n",
    "  - Pokud máte méně než 1O GB volného prostoru, klikněte [sem](https://support.google.com/accounts/answer/27441?hl=en) pro vytvoření nového účtu"
   ]
  },
  {
   "cell_type": "markdown",
   "metadata": {},
   "source": [
    "### 1. Stažení a příprava datové sady\n",
    "Spusťte notebook [001_priprava_dat](https://colab.research.google.com/github/seznam/IT-akademie-bigdata/blob/master/notebooks/001_priprava_dat.ipynb)."
   ]
  },
  {
   "cell_type": "markdown",
   "metadata": {},
   "source": [
    "### 2. Analýza dat\n",
    "Spusťte notebook [002_analyza_dat](https://colab.research.google.com/github/seznam/IT-akademie-bigdata/blob/master/notebooks/003_analyza_dat.ipynb)."
   ]
  },
  {
   "cell_type": "markdown",
   "metadata": {},
   "source": [
    "### 3. Trénink modelu predikce prokliku\n",
    "Spusťte notebook [003_model](https://colab.research.google.com/github/seznam/IT-akademie-bigdata/blob/master/notebooks/003_model.ipynb)."
   ]
  },
  {
   "cell_type": "markdown",
   "metadata": {
    "id": "klQy504Asx_2"
   },
   "source": [
    "### Hodnocení\n",
    "Doufáme, že pro Vás byl workshop přínosný a že se nám zdařilo Vás alespoň zaujmout.\n",
    "Pokud nám chcete zanechat (anonymní) zpětnou vazbu a pomoci nám ke zlepšení obsahu workshopu i jeho prezentace, použijte tento [formulář](TODO)."
   ]
  },
  {
   "cell_type": "markdown",
   "metadata": {},
   "source": [
    "### Zde je odkaz na prezentaci\n",
    "TODO"
   ]
  },
  {
   "cell_type": "code",
   "execution_count": null,
   "metadata": {},
   "outputs": [],
   "source": []
  }
 ],
 "metadata": {
  "colab": {
   "collapsed_sections": [],
   "name": "000_workshop_introduction.ipynb",
   "provenance": []
  },
  "kernelspec": {
   "display_name": "Python 3 (ipykernel)",
   "language": "python",
   "name": "python3"
  },
  "language_info": {
   "codemirror_mode": {
    "name": "ipython",
    "version": 3
   },
   "file_extension": ".py",
   "mimetype": "text/x-python",
   "name": "python",
   "nbconvert_exporter": "python",
   "pygments_lexer": "ipython3",
   "version": "3.9.7"
  }
 },
 "nbformat": 4,
 "nbformat_minor": 4
}
