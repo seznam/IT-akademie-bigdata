{
 "cells": [
  {
   "cell_type": "markdown",
   "id": "48033202-fd43-40b7-a311-c65b6db3789d",
   "metadata": {
    "tags": []
   },
   "source": [
    "# 1. Analýza dat"
   ]
  },
  {
   "cell_type": "markdown",
   "id": "f0d8f913-b994-4032-b972-4d33cb2bbba2",
   "metadata": {},
   "source": [
    "---\n",
    "---\n",
    "Analýza dat bývá prvním krokem k řešení úlohy po získání dat a vždy by měla předcházet dalšímu jejich zpracování. \n",
    "V systémech s velkými daty, kde dochází k průběžnému sběru dat, se analýza dat stává úkolem, který je třeba provádět opakovaně, a je možné jej automatizovat.\n",
    "\n",
    "Účely analýzy dat jsou:\n",
    " - zjištění základních charakteristik dat a jejich porozumění - velikost, rychlost, struktura, typy a rozsahy\n",
    " - porozumění veličinám, které data reprezentují, a vztahům mezi nimi\n",
    " - ujištění se o konzistenci dat, odhalení případných nedostatků, chyb a anomálií\n",
    " - (re)formulace úkolů/problémů, který pomocí dat chceme řešit\n",
    " - návrh nejlepších postupů zpracování dat včetně vhodných ML metod\n",
    " - návrh metod dalšího sběru, zpracování a experimentů\n",
    "\n",
    "Analýza dat není samoúčelná a vždy zkoumá data vzhledem ke specifickému zadání, které definuje účel zpracování dat. \n",
    "--> Na jakém zadání budeme pracovat v našem tutoriálu?\n",
    "Pro účely tutoriálu jsme vybrali datovou sadu Microsoft News Dataset (MIND). Důvodem tohoto výběru je: \n",
    "  1 Dostupnost sady (licenční podmínky dovolují její využití - zejména proto, že byla vyřešena její anonymizace)\n",
    "  2 Blízkost sady k jednomu z hlavních úkolů řešených v rámci vyzkumu reklamních systémů společnosti Seznam.cz - doporučování obsahu.\n",
    "\n",
    "Datová sada MIND je zaměřená na doporučování článků uživatelům - čtenářům zpravodajského portálu [msn.com](https://www.msn.com/en-us/feed). Jak již bylo popsáno v prezentaci, **úkolem doporučování** je vybrat pro daného uživatele další obsahové položky (články), které odpovídají uživatelově okamžitému zájmu a u kterých je vysoká šance na to, že si je uživatel přečte. Mírou toho, zda se doporučovací službě podařilo vybrat správný článek je to, zda si čtenář doporučený článek přečetl, nebo nikoliv - tedy zda kliknul na nabízený článek, nebo nekliknul.\n",
    "--> Naším úkolem pro tento tutoriál tedy bude **navrhnout algoritmus, který provede vyhodnocení vhodnosti článku pro daného uživatele na základě dostupných dat**. Jinými slovy, náš cílový algoritmus by měl provést **predikci prokliku daného článku vzhledem k dostupným datům**.\n",
    "\n",
    "---"
   ]
  },
  {
   "cell_type": "code",
   "execution_count": null,
   "id": "ea67802a-8cf3-4d8a-bfac-be3b96b894fd",
   "metadata": {},
   "outputs": [],
   "source": [
    "import numpy as np\n",
    "import pandas as pd\n",
    "import matplotlib.pyplot as plt"
   ]
  },
  {
   "cell_type": "code",
   "execution_count": null,
   "id": "ced96ee4-11d5-4786-b6e2-9f54ed1f73c8",
   "metadata": {},
   "outputs": [],
   "source": [
    "import os\n",
    "\n",
    "try:\n",
    "    from google.colab import drive\n",
    "\n",
    "    drive.mount('/content/gdrive')\n",
    "    BASE_DIR = \"/content/gdrive/MyDrive/itacademy2022\"\n",
    "    IN_COLAB = True\n",
    "except:\n",
    "    IN_COLAB = False\n",
    "    BASE_DIR = \"..\"\n",
    "\n",
    "MIND_DATA_SOURCE_DIR = \"tmp/mind\"\n",
    "ORIGINAL_TRAIN_INPUT_DIR = os.path.join(BASE_DIR, MIND_DATA_SOURCE_DIR, \"train/\")\n",
    "ORIGINAL_TEST_INPUT_DIR = os.path.join(BASE_DIR, MIND_DATA_SOURCE_DIR, \"test/\")\n",
    "OUTPUT_DIR = os.path.join(BASE_DIR, \"output\")"
   ]
  },
  {
   "cell_type": "code",
   "execution_count": null,
   "id": "0d075f14-1235-4c8b-92d5-ffd88ea37423",
   "metadata": {},
   "outputs": [],
   "source": [
    "# check the data directories\n",
    "! ls -l $ORIGINAL_TRAIN_INPUT_DIR"
   ]
  },
  {
   "cell_type": "code",
   "execution_count": null,
   "id": "fdc829da-0517-4d1b-8b89-2af12b8b438c",
   "metadata": {},
   "outputs": [],
   "source": [
    "! ls -l $ORIGINAL_TEST_INPUT_DIR"
   ]
  },
  {
   "cell_type": "markdown",
   "id": "c4cd361d-b22b-4d11-91c9-2b8d0d5906a5",
   "metadata": {},
   "source": [
    "---\n",
    "#### Q: Co víme o datech a o procesu, který je vyprodukoval?"
   ]
  },
  {
   "cell_type": "markdown",
   "id": "90aaf340-f1f9-4625-a300-723d5e1e613a",
   "metadata": {},
   "source": [
    "---\n",
    "Popis datové sady MIND je zde: https://github.com/msnews/msnews.github.io/blob/master/assets/doc/introduction.md. Co jsou hlavní poznatky?   \n",
    "- anonymizované logy chování čtenářů zpravodajského portálu [msn.com](https://www.msn.com/en-us/feed)\n",
    "- náhodně vybraný vzorek 50000 čtenářů, kteří provedli alespoň 5 kliků během 6 týdnů sběru dat 12.10.-22.11.2019\n",
    "- tréninková data: sekvence článků přečtených uživatelem za 4 první týdny sběru dat\n",
    "- testovací data: poslední den 5. týdnu\n",
    "- soubory v datovém adresáři:\n",
    "\n",
    " ```\n",
    " +------------------------+-----------------------------------------------------------------------------+\n",
    " | File Name              | Description                                                                 |\n",
    " +------------------------+-----------------------------------------------------------------------------+\n",
    " | behaviors.tsv          | The click histories and impression logs of users                            |\n",
    " | news.tsv               | The information of news articles                                            |\n",
    " | entity_embedding.vec   | The embeddings of entities in news extracted from knowledge graph           |\n",
    " | relation_embedding.vec | The embeddings of relations between entities extracted from knowledge graph |\n",
    " +------------------------+-----------------------------------------------------------------------------+\n",
    " ```\n",
    "- behaviors.tsv - data o chování uživatele:\n",
    "  - slateid - ID slejtu (sekvence, která předcházela zobrazení impresí)\n",
    "  - userid - ID uživatele\n",
    "  - time - čas zobrazení imprese ve formátu 'MM/DD/YYYY HH:MM:SS AM/PM'.\n",
    "  - history - časová posloupnost prokliknutých článků (jejich ID) uživatelem PŘED zobrazením imprese\n",
    "  - impressions - neuspořádaný seznam zobrazených článků s indikací prokliku\n",
    "- news.tsv - data o článcích\n",
    "  - News ID - ID článku\n",
    "  - Category - kategorie článku\n",
    "  - Subcategory - podkategorie článku\n",
    "  - Title - titul článku\n",
    "  - Abstract - abstrakt článku\n",
    "  - URL - url\n",
    "  - Title Entities - entity titulu \n",
    "  - Anstract Entities - entity abstraktu \n",
    "    - Label - jméno entity (Wikidata knwoledge graph)\n",
    "    - Type - typ entity ve Wikidata\n",
    "    - WikidataId - ID entity ve Wikidata\n",
    "    - Confidence - konfidenční skóre zařazení entity\n",
    "    - OccurrenceOffsets - offset výskytu v textu titulu, nebo abstraktu\n",
    "    - SurfaceForms - jméno entity tak, jak se vyskytuje v textu"
   ]
  },
  {
   "cell_type": "markdown",
   "id": "bb8614ef-fb77-4fe4-a8cb-7977dc92607f",
   "metadata": {},
   "source": [
    "#### A: Nyní máme základní představu o původu dat a jejich struktuře.\n",
    "---   \n",
    "\n",
    "Bez ohledu na řešenou úlohu, prvním krokem datové analýzy je načtení dat, kontrola jejich validity a konzistence.   \n",
    "\n",
    "---   \n",
    "#### Q: Načteme data o chování uživatele `behaviors.tsv`. Odpovídají data tomu, co o nich víme z dokumentace? Jsou v nich nevalidní záznamy?"
   ]
  },
  {
   "cell_type": "code",
   "execution_count": null,
   "id": "b6ffd585-4c00-4372-b788-8db5007589e7",
   "metadata": {
    "colab": {
     "base_uri": "https://localhost:8080/",
     "height": 423
    },
    "id": "b6ffd585-4c00-4372-b788-8db5007589e7",
    "outputId": "7e70e184-b030-40e1-8839-1e2707920f8c"
   },
   "outputs": [],
   "source": [
    "# read and show the main train data set (behaviors.tsv - data on user's behavior)\n",
    "behaviors_train = pd.read_csv(os.path.join(ORIGINAL_TRAIN_INPUT_DIR, 'behaviors.tsv'), sep='\\t', names=['slateid', 'userid', 'time', 'history', 'impressions'])\n",
    "behaviors_train.info()\n",
    "behaviors_train"
   ]
  },
  {
   "cell_type": "code",
   "execution_count": null,
   "id": "85644810-f2f5-4b31-84ab-14da51de2583",
   "metadata": {},
   "outputs": [],
   "source": [
    "# check rows for occurence of invalid numbers\n",
    "behaviors_train.loc[behaviors_train.isna().any(axis=1)].head(4)"
   ]
  },
  {
   "cell_type": "code",
   "execution_count": null,
   "id": "3d516765-3247-4deb-afc0-f303d250aaf7",
   "metadata": {},
   "outputs": [],
   "source": [
    "# columns that we check for invalid values exclude 'history', where 'NaN' value may just indicate 'no history'\n",
    "nanchk_cols = ['slateid', 'userid', 'time', 'impressions']\n",
    "N_nan = behaviors_train.loc[behaviors_train[nanchk_cols].isna().any(axis=1)].shape[0]\n",
    "print(f'There are {N_nan} rows with invalid values in any of {nanchk_cols} columns')"
   ]
  },
  {
   "cell_type": "code",
   "execution_count": null,
   "id": "4f9ee4ce-cb83-4c3c-b81a-f2873a35c466",
   "metadata": {},
   "outputs": [],
   "source": [
    "# read and show the test data set (behaviors.tsv - data on user's behavior)\n",
    "behaviors_test = pd.read_csv(os.path.join(ORIGINAL_TEST_INPUT_DIR, 'behaviors.tsv'), sep='\\t', names=['slateid', 'userid', 'time', 'history', 'impressions'])\n",
    "behaviors_test.info()\n",
    "behaviors_test"
   ]
  },
  {
   "cell_type": "code",
   "execution_count": null,
   "id": "607774d8-ec7b-4b6a-8aab-a831c11755e0",
   "metadata": {},
   "outputs": [],
   "source": [
    "N_nan_test = behaviors_test.loc[behaviors_test[nanchk_cols].isna().any(axis=1)].shape[0]\n",
    "print(f'There are {N_nan_test} rows with invalid values in any of {nanchk_cols} columns')"
   ]
  },
  {
   "cell_type": "markdown",
   "id": "636e8df5-3b89-4087-9faf-dc1a26c63b64",
   "metadata": {},
   "source": [
    "#### A: Struktura dat v `behaviors.tsv` odpovídá popisu v dokumentaci\n",
    "---   \n",
    "#### Q: Načteme data o článcích (`news.tsv`). Odpovídají data tomu, co o nich víme z dokumentace? Jsou v nich nevalidní záznamy?"
   ]
  },
  {
   "cell_type": "code",
   "execution_count": null,
   "id": "6c60d4ac-9447-40bb-a0e3-a589e7b0a572",
   "metadata": {},
   "outputs": [],
   "source": [
    "# read and show the traning news data\n",
    "news_train = pd.read_csv(os.path.join(ORIGINAL_TRAIN_INPUT_DIR, 'news.tsv'), sep='\\t', names=['newsid', 'category', 'subcategory', 'title', 'abstract', 'url', 'title_entities', 'abstract_entities'])\n",
    "news_train.info()\n",
    "news_train"
   ]
  },
  {
   "cell_type": "code",
   "execution_count": null,
   "id": "34dfcef7-2207-4bcd-8933-645ab6fcd4f9",
   "metadata": {},
   "outputs": [],
   "source": [
    "# read and show the test news data\n",
    "news_test = pd.read_csv(os.path.join(ORIGINAL_TEST_INPUT_DIR, 'news.tsv'), sep='\\t', names=['newsid', 'category', 'subcategory', 'title', 'abstract', 'url', 'title_entities', 'abstract_entities'])\n",
    "news_test.info()\n",
    "news_test"
   ]
  },
  {
   "cell_type": "markdown",
   "id": "baed95da-f0c5-4245-bf65-381a02c3d7e5",
   "metadata": {
    "tags": []
   },
   "source": [
    "#### A: Struktura dat v `news.tsv` odpovídá popisu v dokumentaci\n",
    "---  \n",
    "\n",
    "Další kroky při analýze dat by měly směřovat k volbě featur a modelu pro zadanou úlohu, kterou je predikce prokliku článků.\n",
    "Zopakujeme o co v úloze jde a co při analýze dat budeme cíleně hledat.\n",
    "#### Predikce prokliku článků:\n",
    "- Co známe?\n",
    "    - sekvenci interakcí uživatele s portálem msn.com, tedy které články si v minulosti přečetl - 'history' a 'impressions' v tabulce `behaviors_*`\n",
    "    - ID, kategorii, subkategorii, URL, nadpis, abstrakt všech článků v tabulce `news_*`\n",
    "    - čas, kdy jsou mu články předkládány čtenáři (tedy přibližný čas, kdy se čtenář rozhoduje, zda si článek přečte - proklikne nebo nepřečne - neproklikne)\n",
    "- Co chceme?\n",
    "    - služba, která čtenáři nabídne to, co ho zajímá --TEDY-- metoda, která na základě dostupných dat nabídne k prokliku odkaz na článek na který si uživatel prevděpodobně klikne\n",
    "- Jak vyhodnotíme úspěšnost?\n",
    "    - lepší metoda výběru článků povede k vyšší proklikovosti nabízených odkazů\n",
    "    - výběrem nabízených odkazů tedy chceme **maximalizovat pravděpodobnost prokliku** --> nejedná se o pouhou klasifikaci do tříd 'klikne', 'neklikne' (článek s nízkou pravděpodobností nezahodíme), ale spíše o klasifikaci se současným vyhodnocením pravděpodobnosti (vybíráme články s vyšší pravděpodobností prokliku, než ty ostatní)\n",
    "- Co hledáme v datech?\n",
    "    - čtenářovo rozhodování zda klikne, nebo neklikne závisí na mnoha faktorech, mnoho z nich v datech nejsou zachyceny (nebo dokonce nejsou vůbec zachytitelné)\n",
    "    - některé datové položky se čtenářovým rozhodnutím ale souvisí - například čtenářovy interakce z minulosti se řídí jeho dlouhodobými (např. zájem o investování) a krátkodobými zájmy (např. okamžitý zájem o určitou kryptoměnu) --> tyto informace jsou zachytitelné a v datech je máme\n",
    "    - při analýze chceme posoudit, které datové položky s čtenářovým proklikem souvisí a které nesouvisí\n",
    "- Která data tedy budeme zkoumat?\n",
    "    - proklik - nabývá hodnot 0 nebo 1 a je obsažen spolu s ID článku u každého článku, který byl čtenáři nabídnut ve sloupci 'impressions' tabulky v souboru behaviors.tsv \n",
    "      - je důležité rozumět rozložení kliků přes podmnožiny dat vymnezené na základě zkoumaných datových položek\n",
    "      - info o čtenářích\n",
    "        - někteří čtenáři budou klikat více, jiní méně\n",
    "      - info o nabízených článcích (ID, kategorii, subkategorii, URL, titul, abstrakt)\n",
    "        - některé články, jejich kategorie a podkategorie budou populárnější, než jiné\n",
    "      - info o článcích prokliknutých uživatelem v minulosti\n",
    "      - info o posloupnosti článků prokliknutých iživatelen před impresí\n",
    "      - čas zobrazení imprese\n",
    "        - někteří uživatelé můžou klikat více v časné odpoledne, jiní pozdě večer\n",
    "---   \n",
    "#### Q: Začneme zkoumat záznamy o interakcích jednotlivých uživatelů. Kolik interakcí máme pro každého uživatele?"
   ]
  },
  {
   "cell_type": "code",
   "execution_count": null,
   "id": "8be756e3-4437-4293-bab5-87eb0ef07467",
   "metadata": {},
   "outputs": [],
   "source": [
    "# What is the sequence of interactions of a user like?\n",
    "behaviors_train['datetime'] = pd.to_datetime(behaviors_train['time'], infer_datetime_format=True)        # convert time string to datetime type, so the data can be sorted by the time\n",
    "behaviors_train = behaviors_train.sort_values('datetime')                                                # sort by the date and time\n",
    "slates4user_sorted = behaviors_train.groupby('userid').agg({'slateid': 'count'}).rename(columns={'slateid': 'count'}).sort_values('count', ascending=False)\n",
    "uid0 = slates4user_sorted.index[0]   # select a user ID with highest number of slates\n",
    "uid1 = slates4user_sorted.index[-1]  # select a user ID with lowest number of slates\n",
    "N_uid0_hits = behaviors_train[behaviors_train['userid']==uid0].shape[0]\n",
    "N_uid1_hits = behaviors_train[behaviors_train['userid']==uid1].shape[0]\n",
    "print(f'User {uid0} had most interactions ({N_uid0_hits}), the user {uid1} had least ({N_uid1_hits}).')"
   ]
  },
  {
   "cell_type": "markdown",
   "id": "9a16b0c9-95ef-4d77-807a-7e7f0a280f04",
   "metadata": {},
   "source": [
    "#### A: Nejvíce interakcí jednotlivého uživatele je 62, nejméně 1.\n",
    "---\n",
    "#### Q: Jak vypadá sekvence interakcí jednoho uživatele?"
   ]
  },
  {
   "cell_type": "code",
   "execution_count": null,
   "id": "fec8bbc4-f8f4-4b69-8607-51d57c9957f3",
   "metadata": {},
   "outputs": [],
   "source": [
    "T_earliest = behaviors_train[behaviors_train['userid']==uid0]['time'].values[0]           # see the histories of the user with highest number of slates\n",
    "T_latest = behaviors_train[behaviors_train['userid']==uid0]['time'].values[-1]\n",
    "DT_delta = behaviors_train[behaviors_train['userid']==uid0]['datetime'].values[-1] - behaviors_train[behaviors_train['userid']==uid0]['datetime'].values[0]\n",
    "days = DT_delta.astype('timedelta64[h]').astype('float')/np.timedelta64(1,'D').astype('timedelta64[h]').astype('float')\n",
    "print(f'User {uid0} performed his {N_uid0_hits} interactions between {T_earliest} and {T_latest}, that is within {days:.01f} days')"
   ]
  },
  {
   "cell_type": "code",
   "execution_count": null,
   "id": "f020f183-74f8-4003-997c-56bb955890e1",
   "metadata": {},
   "outputs": [],
   "source": [
    "print(f'Histories of interactions recorded in the data for the user {uid0}:\\n---')\n",
    "print(behaviors_train[behaviors_train['userid']==uid0][['slateid', 'time', 'impressions', 'history']].values[:4])   # see the histories of the selected user\n",
    "print('\\n---')"
   ]
  },
  {
   "cell_type": "markdown",
   "id": "36062abb-5e42-4e05-839e-62b4a33ff38a",
   "metadata": {},
   "source": [
    "#### A: Vybraný uživatel provedl svých 62 interakcí za cca 5 a půl dne. Zdá se ale, že interakce ve sloupci 'history' jsou totožné.\n",
    "---\n",
    "#### Q: Jsou opravdu interakce ve sloupci 'history' totožné u všech uživatelů? "
   ]
  },
  {
   "cell_type": "code",
   "execution_count": null,
   "id": "3682773c-e1f2-4453-a512-a20fb86141dc",
   "metadata": {},
   "outputs": [],
   "source": [
    "print('Histories of the first and the last interactions recorded in the data:\\n---')\n",
    "print(behaviors_train[behaviors_train['userid']==uid0][['history']].values[[0,-1]])\n",
    "sameornot = 'are identical!' if behaviors_train[behaviors_train['userid']==uid0][['history']].values[0][0]==behaviors_train[behaviors_train['userid']==uid0][['history']].values[-1][0] else 'do differ...'\n",
    "print(f'---\\nThese two histories {sameornot}\\n---')"
   ]
  },
  {
   "cell_type": "code",
   "execution_count": null,
   "id": "c075906a-ef51-453c-8ba4-3e253f457e36",
   "metadata": {},
   "outputs": [],
   "source": [
    "N_max_unique_histories = behaviors_train.groupby('userid').agg({'history': pd.Series.nunique}).values.max()\n",
    "print(f'There are at most {N_max_unique_histories.astype(int)} uniques histories for any user.')"
   ]
  },
  {
   "cell_type": "markdown",
   "id": "a843adb9-8b9d-43ef-838d-df06ffd1ae23",
   "metadata": {},
   "source": [
    "#### A: Ověřili jsme, že historie jsou shodné pro všechny záznamy každého jednotlivého uživatele. Jaké to může mít dopady?   \n",
    "- Jedním z dopadů je to, že historie interakcí uživatele, která je zaznamenána v datech je vlastně statická featura - nenese žádnou informaci o tom, jak se mění chování uživatele v čase. Dobré vědět.   \n",
    "---\n",
    "#### Q: Platí totéž i pro testovací datovou sadu?"
   ]
  },
  {
   "cell_type": "code",
   "execution_count": null,
   "id": "a697802d-5cad-4d2b-b913-0538b66b55ab",
   "metadata": {},
   "outputs": [],
   "source": [
    "slates4user_sorted_test = behaviors_test.groupby('userid').agg({'slateid': 'count'}).rename(columns={'slateid': 'count'}).sort_values('count', ascending=False)\n",
    "N_max_hits_test, N_min_hits_test = slates4user_sorted_test['count'].max(), slates4user_sorted_test['count'].min()\n",
    "N_max_unique_histories_test = behaviors_test.groupby('userid').agg({'history': pd.Series.nunique}).values.max()\n",
    "print(f'The range of interactions per user is {N_min_hits_test} ... {N_max_hits_test}.')\n",
    "print(f'There are at most {N_max_unique_histories_test.astype(int)} uniques histories for any user in the test set.')"
   ]
  },
  {
   "cell_type": "markdown",
   "id": "f3e1b877-b28c-4ef2-8a05-6036f9163d30",
   "metadata": {},
   "source": [
    "#### A: Ověřili jsme, že historie všech jednotlivých uživatelů jsou ve všech slejtech shodné i v testovací sadě.   \n",
    "---\n",
    "#### Q: Podívejme se na rozsah datové sady - kolik slejtů a uživatelů v datech máme?"
   ]
  },
  {
   "cell_type": "code",
   "execution_count": null,
   "id": "93c8dbcf-b11b-4b64-9dbf-b77384ca9da6",
   "metadata": {},
   "outputs": [],
   "source": [
    "# how many slates in training set\n",
    "N_slates = behaviors_train.shape[0]\n",
    "# how many unique users\n",
    "N_users = behaviors_train['userid'].unique().shape[0]\n",
    "print(f'{N_slates} slates.')\n",
    "print(f'{N_users} unique users.')"
   ]
  },
  {
   "cell_type": "code",
   "execution_count": null,
   "id": "d85b55ed-f333-48ba-9ecd-ac9d59a20579",
   "metadata": {},
   "outputs": [],
   "source": [
    "# same for the test set\n",
    "N_slates_test = behaviors_test.shape[0]\n",
    "# how many unique users\n",
    "N_users_test = behaviors_test['userid'].unique().shape[0]\n",
    "print(f'{N_slates_test} slates.')\n",
    "print(f'{N_users_test} unique users.')"
   ]
  },
  {
   "cell_type": "markdown",
   "id": "ed4cf6cc-e98f-4c73-8826-6a3f9ce9f283",
   "metadata": {},
   "source": [
    "#### A: V trénovací datové sadě máme 157k slejtů a 50k uživatelů. V testovací sadě 73k slejtů a 50k uživatelů. V testovací sadě je méně uživatelů, než v trénovací sadě. To může mít důležité dopady.\n",
    "---\n",
    "#### Q: Jak vypadají počty slejtů na uživatele?   "
   ]
  },
  {
   "cell_type": "code",
   "execution_count": null,
   "id": "2dc3a19a-6a6e-44de-85f2-42b8bd4fc40c",
   "metadata": {},
   "outputs": [],
   "source": [
    "# slates per user - train\n",
    "N_max_slates = slates4user_sorted['count'].max()\n",
    "N_min_slates = slates4user_sorted['count'].min()\n",
    "ax = slates4user_sorted.plot(kind='hist', y=['count'], bins=range(1,N_max_slates+1), cumulative=False, density=True, histtype='step', figsize=(20, 6), title='histogram of slates per user', color='b')\n",
    "slates4user_sorted.plot(kind='hist', y=['count'], bins=range(1,N_max_slates+1), cumulative=True, density=True, histtype='step', figsize=(20, 6), ax=ax, color='r')\n",
    "print(f'Minimum and maximum slates per user: {N_min_slates}, {N_max_slates}')"
   ]
  },
  {
   "cell_type": "code",
   "execution_count": null,
   "id": "ee7c53d3-8057-4e4c-bd12-0d2f6b4fbd8d",
   "metadata": {},
   "outputs": [],
   "source": [
    "# slates per user - test\n",
    "N_max_slates_test = slates4user_sorted_test['count'].max()\n",
    "N_min_slates_test = slates4user_sorted_test['count'].min()\n",
    "ax = slates4user_sorted_test.plot(kind='hist', y=['count'], bins=range(1, N_max_slates_test+1), cumulative=False, density=True, histtype='step', figsize=(20, 6), title='histogram of slates per user', color='b')\n",
    "slates4user_sorted_test.plot(kind='hist', y=['count'], bins=range(1, N_max_slates_test+1), cumulative=True, density=True, histtype='step', ax=ax, color='r')\n",
    "print(f'Minimum and maximum slates per user: {N_min_slates_test}, {N_max_slates_test}')"
   ]
  },
  {
   "cell_type": "markdown",
   "id": "04c8359b-a99a-470b-9db0-76fb1d6d80d9",
   "metadata": {},
   "source": [
    "#### A: Nejvíce uživatelů má malý počet slejtů, s počtem slejtů počet uživatelů rychle klesá. Jen pro menšinu uživatelů (~10%) bude možné modelovat jejich interakce pomocí sekvence. Pro ostatní uživatele může model využívat pouze statické featury.  \n",
    "---\n",
    "#### Q: Kolik článků je obsaženo v datech? (Kolik unikátních článků v historii, v impresích, celkem)."
   ]
  },
  {
   "cell_type": "code",
   "execution_count": null,
   "id": "2c43e465-82a2-48cd-8b9c-f87e0904a9f1",
   "metadata": {},
   "outputs": [],
   "source": [
    "# how many impressions\n",
    "N_imps = behaviors_train['impressions'].map(lambda x: x.split()).explode('impressions').shape[0]\n",
    "# set of unique articles in impressions\n",
    "all_imp_articles = set(behaviors_train['impressions'].map(lambda x: x.split()).explode('impressions').map(lambda x: x[:-2]).unique())\n",
    "# set of unique articles in histories\n",
    "all_histr_articles = set(behaviors_train['history'].dropna().map(lambda x: x.split()).explode('history').unique())\n",
    "# set of all unique articles\n",
    "all_articles = all_imp_articles | all_histr_articles\n",
    "common_articles = all_imp_articles & all_histr_articles\n",
    "# counts\n",
    "N_imp_articles, N_histr_articles, N_articles, N_common_articles = len(all_imp_articles), len(all_histr_articles), len(all_articles), len(common_articles)\n",
    "print(f'{N_imp_articles} unique articles among impressions.')\n",
    "print(f'{N_histr_articles} unique articles in histories.')\n",
    "print(f'{N_articles} unique articles total.')\n",
    "print(f'{N_common_articles} articles in both - the history and the impressions.')"
   ]
  },
  {
   "cell_type": "code",
   "execution_count": null,
   "id": "2401c0fd-8840-4ac6-8b80-48856cb5ff7a",
   "metadata": {},
   "outputs": [],
   "source": [
    "list(common_articles)[:5], list(all_articles-common_articles)[:5]"
   ]
  },
  {
   "cell_type": "markdown",
   "id": "273fef3f-9404-48e4-8b99-043363689099",
   "metadata": {},
   "source": [
    "#### A: 20k článků v impresích, 33k v historii, 51 celkem. Pouze 2k článků v historii také v impresích - velmi malý překryv. \n",
    "---\n",
    "#### Q: Kolikrát byly články nabízeny k přečtení (kolik impresí na stejný článek) a kolikrát byly přečteny (kolik kliků na stejný článek)?"
   ]
  },
  {
   "cell_type": "code",
   "execution_count": null,
   "id": "f143e054-3552-4c73-93c2-762cf8d87982",
   "metadata": {},
   "outputs": [],
   "source": [
    "# get all impressions along with the click information\n",
    "impressions = ( behaviors_train\n",
    "               .assign(imparray=lambda x: x.impressions.map(lambda xx: xx.split()))\n",
    "               .explode('imparray')\n",
    "               .drop(['impressions', 'history'], axis=1)\n",
    "               .assign(clicked=lambda x: x.imparray.map(lambda xx: xx.split())))\n",
    "\n",
    "behaviors_train['imparray'] = behaviors_train['impressions'].map(lambda x: x.split())\n",
    "impressions = behaviors_train.explode('imparray').drop(['impressions', 'history'], axis=1)\n",
    "impressions['clicked'] = impressions['imparray'].map(lambda x: int(x[-1]))\n",
    "impressions['id'] = impressions['imparray'].map(lambda x: x[:-2])\n",
    "impressions = impressions.drop(['imparray'], axis=1)\n",
    "# calculate CTR (Click Through Rate) for each unique article\n",
    "ctrs_all = impressions.groupby('id').agg({'clicked': ['sum', 'count']}).droplevel(0, axis=1)\n",
    "# counts of article impressions and clicks\n",
    "N_imp_articles_max = ctrs_all['count'].max()\n",
    "N_clk_articles_max = ctrs_all['sum'].max()\n",
    "print(f'{N_imp_articles_max} max impressions of a unique article.')\n",
    "print(f'{N_clk_articles_max} max clicks on a unique article.')"
   ]
  },
  {
   "cell_type": "code",
   "execution_count": null,
   "id": "39c32260-33e7-439f-a70a-5dac6b39aed9",
   "metadata": {},
   "outputs": [],
   "source": [
    "# calculate CTR per each unique articles\n",
    "THR_MIN_IMPS_4_CTR = 30  # require minimum amount of impressions\n",
    "ctrs_all['ctr'] = ctrs_all['sum'].values/ctrs_all['count'].values\n",
    "ctr_max_all = ctrs_all['ctr'].max()\n",
    "ctrs = ctrs_all[ctrs_all['count']>=THR_MIN_IMPS_4_CTR]\n",
    "ctr_max = ctrs['ctr'].max()\n",
    "print(f'{ctr_max:.03f} highest achieved article CTR for articles with enough impressions (min {THR_MIN_IMPS_4_CTR} impressions).')\n",
    "print(f'{ctr_max_all:.03f} highest achieved article CTR.')"
   ]
  },
  {
   "cell_type": "markdown",
   "id": "ec54686c-7ba2-4b0c-a465-c83121db0be6",
   "metadata": {},
   "source": [
    "#### A: Maximální počet impresí článku je 22.5k, maximání počet kliků 4k, nejvyšší CTR článku je 0.5. \n",
    "---\n",
    "#### Q: Jak vypadá rozložení impresí a kliků mezi články? Jaká je jejich proklikovost?"
   ]
  },
  {
   "cell_type": "code",
   "execution_count": null,
   "id": "25a945eb-4bbf-4f2d-a94c-9c94aa05d17f",
   "metadata": {},
   "outputs": [],
   "source": [
    "def plot_hist(df, columns, N_bins, title):\n",
    "    ax = df.plot(\n",
    "        y=columns, bins=N_bins,\n",
    "        kind='hist', histtype='step', cumulative=False, \n",
    "        figsize=(20, 6), title=title)\n",
    "    df.plot(y=columns, bins=N_bins, kind='hist', histtype='step', cumulative=True, ax=ax)"
   ]
  },
  {
   "cell_type": "code",
   "execution_count": null,
   "id": "2976f659-d40f-452d-b679-217bdac78538",
   "metadata": {},
   "outputs": [],
   "source": [
    "N_bins = 100\n",
    "plot_hist(ctrs_all, ['count'], N_bins, 'article impressions histogram')\n",
    "plot_hist(ctrs, ['count'], N_bins, f'article impressions histogram (min {THR_MIN_IMPS_4_CTR} impressions)')\n",
    "plot_hist(ctrs, ['sum'], N_bins, f'article clicks histogram (min {THR_MIN_IMPS_4_CTR} impressions)')\n",
    "plot_hist(ctrs, ['ctr'], N_bins, f'article CTR histogram (min {THR_MIN_IMPS_4_CTR} impressions)')"
   ]
  },
  {
   "cell_type": "markdown",
   "id": "5a7510e5-21f2-4acb-9b75-e7f667af662a",
   "metadata": {},
   "source": [
    "#### A: Úzká skupina článků má vysokou proklikovost (>20%), drtivá většina má proklikovost velmi nízkou (<5%).\n",
    "---\n",
    "#### Q: Jak vypadá rozložení impresí, kliků mezi uživatele? Jaká je jejich 'klikavost'?"
   ]
  },
  {
   "cell_type": "code",
   "execution_count": null,
   "id": "e8e9bd91-10c5-4318-aa6f-2ff29a8f6262",
   "metadata": {},
   "outputs": [],
   "source": [
    "# calculate user clickrate\n",
    "uclicks_all = impressions[['clicked', 'userid']].groupby('userid').agg(['sum', 'count']).droplevel(0, axis=1)\n",
    "uclicks_all['ucr'] = uclicks_all['sum']/uclicks_all['count']\n",
    "N_imp_user_max, N_imp_user_min = uclicks_all['count'].max(), uclicks_all['count'].min()\n",
    "N_clk_user_max, N_clk_user_min = uclicks_all['sum'].max(), uclicks_all['sum'].min()\n",
    "print(f'{N_imp_user_min}...{N_imp_user_max} range of impressions for any user.')\n",
    "print(f'{N_clk_user_min}...{N_clk_user_max} range of clicks of any user.')"
   ]
  },
  {
   "cell_type": "code",
   "execution_count": null,
   "id": "8a303967-1b65-4430-a8b6-e601297f51d9",
   "metadata": {},
   "outputs": [],
   "source": [
    "# calculate clcik rate per each unique articles\n",
    "THR_MIN_IMPS_4_USR = 10  # require minimum amount of impressions\n",
    "uclicks_all['ucr'] = uclicks_all['sum'].values/uclicks_all['count'].values\n",
    "ucr_max_all, ucr_min_all = uclicks_all['ucr'].max(), uclicks_all['ucr'].min()\n",
    "uclicks = uclicks_all[uclicks_all['count']>=THR_MIN_IMPS_4_USR]\n",
    "ucr_max, ucr_min = uclicks['ucr'].max(), uclicks['ucr'].min()\n",
    "print(f'{ucr_min:.03f}...{ucr_max:.03f} range of user click rate for users with enough impressions (min {THR_MIN_IMPS_4_USR} impressions).')\n",
    "print(f'{ucr_min_all:.03f}...{ucr_max_all:.03f} range of user user click rate.')"
   ]
  },
  {
   "cell_type": "code",
   "execution_count": null,
   "id": "834e64c0-ce33-4ef6-824a-8a19742be254",
   "metadata": {},
   "outputs": [],
   "source": [
    "N_bins = 100\n",
    "plot_hist(uclicks_all, ['count'], N_bins, 'user impressions histogram')\n",
    "plot_hist(uclicks, ['count'], N_bins, f'user impressions histogram (min {THR_MIN_IMPS_4_USR} impressions)')\n",
    "plot_hist(uclicks, ['sum'], N_bins, f'user clicks histogram (min {THR_MIN_IMPS_4_USR} impressions)')\n",
    "plot_hist(uclicks, ['ucr'], N_bins, f'user click rate histogram (min {THR_MIN_IMPS_4_USR} impressions)')"
   ]
  },
  {
   "cell_type": "markdown",
   "id": "0ad74c61-8976-4358-ae88-f084532e6c51",
   "metadata": {},
   "source": [
    "#### A: Úzká skupina uživatelů má vysokou 'klikavost' (>20%), většina ji má velmi nízkou (<5%).\n",
    "---\n",
    "#### Q: Jaké jsou statistiky kategorií a subkategorií?"
   ]
  },
  {
   "cell_type": "code",
   "execution_count": null,
   "id": "7be16d66-d2a2-4490-b668-7a91dda719bd",
   "metadata": {},
   "outputs": [],
   "source": [
    "# how many categories, subcategories and articles\n",
    "N_cats = len(news_train['category'].unique())\n",
    "N_subcats = len(news_train['subcategory'].unique())\n",
    "N_articles_news = len(news_train['newsid'].unique())\n",
    "print(f'{N_cats} categories, {N_subcats} subcategories, {N_articles_news} unique articles (vs. {N_articles} unique articles in the behaviors table)')"
   ]
  },
  {
   "cell_type": "code",
   "execution_count": null,
   "id": "3103a3c2-3d52-421f-b2ce-a0aec21e7f16",
   "metadata": {},
   "outputs": [],
   "source": [
    "# how many subcategories and articles per any single category\n",
    "cats = news_train.groupby('category').agg({'subcategory': ['nunique', 'unique'], 'newsid': 'nunique'})\n",
    "cats.columns = ['subcat_cnt', 'subcats', 'article_cnt']\n",
    "cats = cats.sort_values(['article_cnt', 'subcat_cnt'], ascending=False)\n",
    "N_sub4cat_min, N_sub4cat_max = cats['subcat_cnt'].min(), cats['subcat_cnt'].max()\n",
    "N_art4cat_min, N_art4cat_max = cats['article_cnt'].min(), cats['article_cnt'].max()\n",
    "print(f'{N_sub4cat_min}...{N_sub4cat_max} subcategories per any single category')\n",
    "print(f'{N_art4cat_min}...{N_art4cat_max} unique articles per any single category')\n",
    "cats"
   ]
  },
  {
   "cell_type": "code",
   "execution_count": null,
   "id": "91ee0b61-92d3-42ba-8200-055d1421c4ff",
   "metadata": {},
   "outputs": [],
   "source": [
    "# how many articles per any single subcategory\n",
    "subcats = news_train.groupby('subcategory').agg({'category': 'first', 'newsid': 'nunique'}).rename(columns={'newsid': 'article_cnt'}).sort_values('article_cnt', ascending=False)\n",
    "N_art4subcat_min, N_art4subcat_max = subcats['article_cnt'].min(), subcats['article_cnt'].max()\n",
    "print(f'{N_art4subcat_min}...{N_art4subcat_max} unique articles per any single subcategory')\n",
    "subcats"
   ]
  },
  {
   "cell_type": "markdown",
   "id": "bb7cfdcb-da34-4a6f-abe9-ea0212dfeccb",
   "metadata": {},
   "source": [
    "#### A: 17 kategorií, 264 subkategorií, 51k článků. Velmi nerovnoměrné zastoupení článků a subkategorií v kategoriích a článků v subkategoriích.\n",
    "---\n",
    "#### Q: Jaká jsou zastoupení kategorií, subkategorií v trénovací množině?"
   ]
  },
  {
   "cell_type": "code",
   "execution_count": null,
   "id": "4a183050-fbce-4963-be62-9bf34411acc5",
   "metadata": {},
   "outputs": [],
   "source": [
    "# function to count occurrences of articles, subcategories, categories\n",
    "def count_occurences(df_behav, df_news, col):\n",
    "    articles = ( df_behav[[col]]\n",
    "                .dropna(axis=0)\n",
    "                .assign(occarray=lambda x: x[col].map(lambda xx: xx.split(' ')))\n",
    "                .drop([col], axis=1)\n",
    "                .explode('occarray')\n",
    "               )\n",
    "    N_arts = articles.shape[0]\n",
    "    articles = ( articles\n",
    "                .assign(newsid=lambda x: x.occarray.map(lambda xx: xx.split('-')[0]))  # due to impressions (for history same as rename)\n",
    "                .drop(['occarray'], axis=1)\n",
    "                .groupby('newsid')\n",
    "                .agg({'newsid': 'count'})           \n",
    "                .rename( columns={'newsid': 'cnt'} )\n",
    "                .reset_index()\n",
    "                .join(df_news[['newsid', 'category', 'subcategory']].set_index('newsid'), on='newsid', how='left')\n",
    "                .fillna({'subcategory': '-NA-', 'category': '-NA-'})\n",
    "                .assign(relcount=lambda x: x.cnt.map(lambda xx: float(xx)/float(N_arts)))  \n",
    "                .sort_values('cnt', ascending=False)\n",
    "               )\n",
    "    subcats = ( articles\n",
    "               .groupby('subcategory')\n",
    "               .agg({'cnt': 'sum', 'category': 'first'})\n",
    "               .assign(relcount=lambda x: x.cnt.map(lambda xx: float(xx)/float(N_arts)))  \n",
    "               .sort_values('cnt', ascending=False)\n",
    "              )\n",
    "    cats = ( subcats\n",
    "            .groupby('category')\n",
    "            .agg({'cnt': 'sum'})\n",
    "            .assign(relcount=lambda x: x.cnt.map(lambda xx: float(xx)/float(N_arts)))  \n",
    "            .sort_values('cnt', ascending=False)\n",
    "           )\n",
    "    return articles, subcats, cats, N_arts"
   ]
  },
  {
   "cell_type": "code",
   "execution_count": null,
   "id": "3c257bca-2abc-4088-887a-b8e3372bb8bf",
   "metadata": {},
   "outputs": [],
   "source": [
    "articles_hist, subcats_hist, cats_hist, N_arts_hist = count_occurences(behaviors_train, news_train, 'history')\n",
    "articles_imps, subcats_imps, cats_imps, N_arts_imps = count_occurences(behaviors_train, news_train, 'impressions')"
   ]
  },
  {
   "cell_type": "code",
   "execution_count": null,
   "id": "b9f9cbe1-c65c-4353-a61d-fc6d049d6487",
   "metadata": {},
   "outputs": [],
   "source": [
    "cats_hist"
   ]
  },
  {
   "cell_type": "code",
   "execution_count": null,
   "id": "75fb68f6-1bcd-4d56-8dca-71c240b4b154",
   "metadata": {},
   "outputs": [],
   "source": [
    "cats_imps"
   ]
  },
  {
   "cell_type": "code",
   "execution_count": null,
   "id": "86ec1117-ebf9-4101-9137-be864a7187bd",
   "metadata": {},
   "outputs": [],
   "source": [
    "subcats_hist"
   ]
  },
  {
   "cell_type": "code",
   "execution_count": null,
   "id": "446444f0-d08f-4aaf-8b48-b55d40d2dd91",
   "metadata": {},
   "outputs": [],
   "source": [
    "subcats_imps"
   ]
  },
  {
   "cell_type": "markdown",
   "id": "23065612-b8d6-4d93-843b-1dbdde5e8a09",
   "metadata": {},
   "source": [
    "#### A: Relativní zastoupení kategorií a subkategorií v history vs. impressions se velmi liší - pro modelování predikce prokliku bude zřejmě lepší výskyty článků v obou kategoriích odlišovat.\n",
    "---\n",
    "#### Q: Jaká jsou zastoupení kategorií, subkategorií v testovací množině?"
   ]
  },
  {
   "cell_type": "code",
   "execution_count": null,
   "id": "562f0e6e-cca8-4c3d-abe7-832fb577271b",
   "metadata": {},
   "outputs": [],
   "source": [
    "articles_hist_test, subcats_hist_test, cats_hist_test, N_arts_hist_test = count_occurences(behaviors_test, news_test, 'history')\n",
    "articles_imps_test, subcats_imps_test, cats_imps_test, N_arts_imps_test = count_occurences(behaviors_test, news_test, 'impressions')"
   ]
  },
  {
   "cell_type": "code",
   "execution_count": null,
   "id": "a509f5fd-58c3-44cc-a839-34fd71916f8b",
   "metadata": {},
   "outputs": [],
   "source": [
    "cats_hist_test"
   ]
  },
  {
   "cell_type": "code",
   "execution_count": null,
   "id": "40bccdc6-9300-48c1-8b55-1169e9feaa98",
   "metadata": {},
   "outputs": [],
   "source": [
    "cats_imps_test"
   ]
  },
  {
   "cell_type": "code",
   "execution_count": null,
   "id": "6102f9a5-bbf7-41bd-8914-8d1b74e773b7",
   "metadata": {},
   "outputs": [],
   "source": [
    "subcats_hist_test"
   ]
  },
  {
   "cell_type": "code",
   "execution_count": null,
   "id": "107fde81-55ae-4db2-b5b9-5fedc169517d",
   "metadata": {},
   "outputs": [],
   "source": [
    "subcats_imps_test"
   ]
  },
  {
   "cell_type": "markdown",
   "id": "c65b28ad-c88e-4708-959d-6fb1d2e42b1b",
   "metadata": {},
   "source": [
    "#### A: Relativní zastoupení kategorií a subkategorií v history vs. impressions se velmi liší i v testovací sadě. \n",
    "---\n",
    "#### Q: Jak se liší rozdělení dat v testovací i trénovací množině?"
   ]
  },
  {
   "cell_type": "markdown",
   "id": "b0c150f5-55b4-4737-b86b-79fa8837c749",
   "metadata": {},
   "source": [
    "#### A: \n",
    "---\n",
    "#### Q: Jak dobře data, která máme k dispozici predikují prokliky?"
   ]
  },
  {
   "cell_type": "code",
   "execution_count": null,
   "id": "8ff4c883-8ca6-4f5f-bbf3-56ae277ee909",
   "metadata": {},
   "outputs": [],
   "source": []
  }
 ],
 "metadata": {
  "colab": {
   "collapsed_sections": [],
   "name": "002_exploratory_data_analysis.ipynb",
   "provenance": []
  },
  "kernelspec": {
   "display_name": "Python 3 (ipykernel)",
   "language": "python",
   "name": "python3"
  },
  "language_info": {
   "codemirror_mode": {
    "name": "ipython",
    "version": 3
   },
   "file_extension": ".py",
   "mimetype": "text/x-python",
   "name": "python",
   "nbconvert_exporter": "python",
   "pygments_lexer": "ipython3",
   "version": "3.7.10"
  }
 },
 "nbformat": 4,
 "nbformat_minor": 5
}
