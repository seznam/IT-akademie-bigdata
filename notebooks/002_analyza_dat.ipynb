{
 "cells": [
  {
   "cell_type": "markdown",
   "id": "HTwf1pP-Rsv-",
   "metadata": {
    "id": "HTwf1pP-Rsv-"
   },
   "source": [
    "## Exploratory data analysis of cold-start dataset\n",
    " - We will explore newly created train/test datasets attributes and identify user cold-start problem\n",
    " - In particular we will verify that datasets still share common traits as it is prerequisite for proper modeling:\n",
    "  - compare items unique counts\n",
    "  - compare distribution of slate sizes\n",
    "  - compare distribution of slates per user\n",
    "  - compare history sizes\n",
    "  - compare click ratios\n",
    "  - compare categories and subcategories distribution"
   ]
  },
  {
   "cell_type": "code",
   "execution_count": null,
   "id": "c4d27f80-cc18-40d5-bd96-6512267780b5",
   "metadata": {
    "colab": {
     "base_uri": "https://localhost:8080/"
    },
    "id": "c4d27f80-cc18-40d5-bd96-6512267780b5",
    "outputId": "c1f86fad-d467-4775-a118-1e0d36716d15"
   },
   "outputs": [
    {
     "name": "stdout",
     "output_type": "stream",
     "text": [
      "Mounted at /content/gdrive\n"
     ]
    }
   ],
   "source": [
    "try:\n",
    "    from google.colab import drive\n",
    "\n",
    "    drive.mount('/content/gdrive')\n",
    "    BASE_DIR = \"/content/gdrive/MyDrive/mlprague2022\"\n",
    "    IN_COLAB = True\n",
    "except:\n",
    "    BASE_DIR = \"..\"\n",
    "    IN_COLAB = False\n",
    "\n",
    "import os\n",
    "import pandas as pd\n",
    "import matplotlib.pyplot as plt\n",
    "from collections import Counter\n",
    "import plotly.graph_objects as go"
   ]
  },
  {
   "cell_type": "code",
   "execution_count": null,
   "id": "a99ac43a-0bb1-4ed8-8a0f-df9c2f05dec7",
   "metadata": {
    "id": "a99ac43a-0bb1-4ed8-8a0f-df9c2f05dec7"
   },
   "outputs": [],
   "source": [
    "OUTPUT_DIR = os.path.join(BASE_DIR, \"data/mind_cold_start_datasets_basic/\")\n",
    "\n",
    "COLD_START_BEHAVIORS_TRAIN = os.path.join(OUTPUT_DIR, \"behaviors_train.tsv\")\n",
    "COLD_START_BEHAVIORS_TEST = os.path.join(OUTPUT_DIR, \"behaviors_test.tsv\")"
   ]
  },
  {
   "cell_type": "code",
   "execution_count": null,
   "id": "b6ffd585-4c00-4372-b788-8db5007589e7",
   "metadata": {
    "colab": {
     "base_uri": "https://localhost:8080/",
     "height": 423
    },
    "id": "b6ffd585-4c00-4372-b788-8db5007589e7",
    "outputId": "7e70e184-b030-40e1-8839-1e2707920f8c"
   },
   "outputs": [
    {
     "data": {
      "text/html": [
       "\n",
       "  <div id=\"df-44008557-d3a3-40f6-bff9-05b2dadf66be\">\n",
       "    <div class=\"colab-df-container\">\n",
       "      <div>\n",
       "<style scoped>\n",
       "    .dataframe tbody tr th:only-of-type {\n",
       "        vertical-align: middle;\n",
       "    }\n",
       "\n",
       "    .dataframe tbody tr th {\n",
       "        vertical-align: top;\n",
       "    }\n",
       "\n",
       "    .dataframe thead th {\n",
       "        text-align: right;\n",
       "    }\n",
       "</style>\n",
       "<table border=\"1\" class=\"dataframe\">\n",
       "  <thead>\n",
       "    <tr style=\"text-align: right;\">\n",
       "      <th></th>\n",
       "      <th>slateid</th>\n",
       "      <th>userid</th>\n",
       "      <th>time</th>\n",
       "      <th>history</th>\n",
       "      <th>impressions</th>\n",
       "      <th>history_all_categories</th>\n",
       "      <th>history_all_subcategories</th>\n",
       "      <th>history_all</th>\n",
       "    </tr>\n",
       "  </thead>\n",
       "  <tbody>\n",
       "    <tr>\n",
       "      <th>0</th>\n",
       "      <td>1</td>\n",
       "      <td>U13740</td>\n",
       "      <td>11/11/2019 9:05:58 AM</td>\n",
       "      <td>N45794 N19347 N31801</td>\n",
       "      <td>N35729-0</td>\n",
       "      <td>tv sports tv news sports lifestyle movies news...</td>\n",
       "      <td>tvnews baseball_mlb tvnews newscrime football_...</td>\n",
       "      <td>N55189 N42782 N34694 N45794 N18445 N63302 N104...</td>\n",
       "    </tr>\n",
       "    <tr>\n",
       "      <th>1</th>\n",
       "      <td>2</td>\n",
       "      <td>U91836</td>\n",
       "      <td>11/12/2019 6:11:30 PM</td>\n",
       "      <td>N31739 N6072 N63045 N43353 N8129 N1569 N17686 ...</td>\n",
       "      <td>N39317-0 N20495-0 N42977-0</td>\n",
       "      <td>news news news finance travel news news news n...</td>\n",
       "      <td>newscrime newsus newscrime markets travelnews ...</td>\n",
       "      <td>N31739 N6072 N63045 N23979 N35656 N43353 N8129...</td>\n",
       "    </tr>\n",
       "    <tr>\n",
       "      <th>2</th>\n",
       "      <td>3</td>\n",
       "      <td>U73700</td>\n",
       "      <td>11/14/2019 7:01:48 AM</td>\n",
       "      <td>N7563 N24233</td>\n",
       "      <td>N23877-0 N49712-0 N64174-0 N46821-0 N48017-0 N...</td>\n",
       "      <td>lifestyle lifestyle news sports tv weather spo...</td>\n",
       "      <td>lifestylebuzz lifestylehomeandgarden newsus fo...</td>\n",
       "      <td>N10732 N25792 N7563 N21087 N41087 N5445 N60384...</td>\n",
       "    </tr>\n",
       "    <tr>\n",
       "      <th>3</th>\n",
       "      <td>4</td>\n",
       "      <td>U34670</td>\n",
       "      <td>11/11/2019 5:28:05 AM</td>\n",
       "      <td></td>\n",
       "      <td>N35729-0</td>\n",
       "      <td>tv sports tv finance finance sports lifestyle ...</td>\n",
       "      <td>tv-celebrity baseball_mlb tv-celebrity markets...</td>\n",
       "      <td>N45729 N2203 N871 N53880 N41375 N43142 N33013 ...</td>\n",
       "    </tr>\n",
       "    <tr>\n",
       "      <th>4</th>\n",
       "      <td>5</td>\n",
       "      <td>U8125</td>\n",
       "      <td>11/12/2019 4:11:21 PM</td>\n",
       "      <td></td>\n",
       "      <td>N16096-0 N45389-0 N35850-0 N28495-0 N39317-0 N...</td>\n",
       "      <td>autos travel weather health</td>\n",
       "      <td>autosownership travelnews weathertopstories we...</td>\n",
       "      <td>N10078 N56514 N14904 N33740</td>\n",
       "    </tr>\n",
       "    <tr>\n",
       "      <th>...</th>\n",
       "      <td>...</td>\n",
       "      <td>...</td>\n",
       "      <td>...</td>\n",
       "      <td>...</td>\n",
       "      <td>...</td>\n",
       "      <td>...</td>\n",
       "      <td>...</td>\n",
       "      <td>...</td>\n",
       "    </tr>\n",
       "    <tr>\n",
       "      <th>147137</th>\n",
       "      <td>156961</td>\n",
       "      <td>U21593</td>\n",
       "      <td>11/14/2019 10:24:05 PM</td>\n",
       "      <td>N58559 N1954 N43353 N14343 N44495 N996 N14441 ...</td>\n",
       "      <td>N64037-0 N42515-0 N56211-0 N46917-0 N63913-0 N...</td>\n",
       "      <td>video news news news news finance video lifest...</td>\n",
       "      <td>science newsus newspolitics newscrime newsworl...</td>\n",
       "      <td>N7432 N58559 N1954 N43353 N14343 N13008 N28833...</td>\n",
       "    </tr>\n",
       "    <tr>\n",
       "      <th>147138</th>\n",
       "      <td>156962</td>\n",
       "      <td>U10123</td>\n",
       "      <td>11/13/2019 6:57:04 AM</td>\n",
       "      <td>N57318 N54842 N11037 N44070 N8549 N40509</td>\n",
       "      <td>N58813-0 N4428-0 N32118-0 N22457-0 N9187-0 N45...</td>\n",
       "      <td>finance sports sports news lifestyle music spo...</td>\n",
       "      <td>markets golfvideos golf newsus lifestylehomean...</td>\n",
       "      <td>N9803 N104 N24462 N57318 N55743 N40526 N31726 ...</td>\n",
       "    </tr>\n",
       "    <tr>\n",
       "      <th>147139</th>\n",
       "      <td>156963</td>\n",
       "      <td>U75630</td>\n",
       "      <td>11/14/2019 10:58:13 AM</td>\n",
       "      <td>N59704 N12844 N8270 N29510</td>\n",
       "      <td>N34869-0 N38779-0 N25165-0 N34668-0 N46283-1</td>\n",
       "      <td>travel news sports finance foodanddrink travel...</td>\n",
       "      <td>travelnews newscrime football_nfl markets vide...</td>\n",
       "      <td>N29898 N59704 N4408 N9803 N53644 N26103 N812 N...</td>\n",
       "    </tr>\n",
       "    <tr>\n",
       "      <th>147140</th>\n",
       "      <td>156964</td>\n",
       "      <td>U44625</td>\n",
       "      <td>11/13/2019 2:57:02 PM</td>\n",
       "      <td>N3164 N53854 N44649 N26398 N43983 N16516 N6373...</td>\n",
       "      <td>N3663-0 N31147-0 N4107-0 N27515-0 N20495-0 N18...</td>\n",
       "      <td>lifestyle weather news finance entertainment t...</td>\n",
       "      <td>lifestylehomeandgarden weathertopstories newsw...</td>\n",
       "      <td>N4118 N47297 N3164 N43295 N6056 N38747 N42973 ...</td>\n",
       "    </tr>\n",
       "    <tr>\n",
       "      <th>147141</th>\n",
       "      <td>156965</td>\n",
       "      <td>U64800</td>\n",
       "      <td>11/14/2019 3:25:49 PM</td>\n",
       "      <td>N22997 N48742</td>\n",
       "      <td>N19661-0</td>\n",
       "      <td>news news</td>\n",
       "      <td>newscrime newscrime</td>\n",
       "      <td>N22997 N48742</td>\n",
       "    </tr>\n",
       "  </tbody>\n",
       "</table>\n",
       "<p>147142 rows × 8 columns</p>\n",
       "</div>\n",
       "      <button class=\"colab-df-convert\" onclick=\"convertToInteractive('df-44008557-d3a3-40f6-bff9-05b2dadf66be')\"\n",
       "              title=\"Convert this dataframe to an interactive table.\"\n",
       "              style=\"display:none;\">\n",
       "        \n",
       "  <svg xmlns=\"http://www.w3.org/2000/svg\" height=\"24px\"viewBox=\"0 0 24 24\"\n",
       "       width=\"24px\">\n",
       "    <path d=\"M0 0h24v24H0V0z\" fill=\"none\"/>\n",
       "    <path d=\"M18.56 5.44l.94 2.06.94-2.06 2.06-.94-2.06-.94-.94-2.06-.94 2.06-2.06.94zm-11 1L8.5 8.5l.94-2.06 2.06-.94-2.06-.94L8.5 2.5l-.94 2.06-2.06.94zm10 10l.94 2.06.94-2.06 2.06-.94-2.06-.94-.94-2.06-.94 2.06-2.06.94z\"/><path d=\"M17.41 7.96l-1.37-1.37c-.4-.4-.92-.59-1.43-.59-.52 0-1.04.2-1.43.59L10.3 9.45l-7.72 7.72c-.78.78-.78 2.05 0 2.83L4 21.41c.39.39.9.59 1.41.59.51 0 1.02-.2 1.41-.59l7.78-7.78 2.81-2.81c.8-.78.8-2.07 0-2.86zM5.41 20L4 18.59l7.72-7.72 1.47 1.35L5.41 20z\"/>\n",
       "  </svg>\n",
       "      </button>\n",
       "      \n",
       "  <style>\n",
       "    .colab-df-container {\n",
       "      display:flex;\n",
       "      flex-wrap:wrap;\n",
       "      gap: 12px;\n",
       "    }\n",
       "\n",
       "    .colab-df-convert {\n",
       "      background-color: #E8F0FE;\n",
       "      border: none;\n",
       "      border-radius: 50%;\n",
       "      cursor: pointer;\n",
       "      display: none;\n",
       "      fill: #1967D2;\n",
       "      height: 32px;\n",
       "      padding: 0 0 0 0;\n",
       "      width: 32px;\n",
       "    }\n",
       "\n",
       "    .colab-df-convert:hover {\n",
       "      background-color: #E2EBFA;\n",
       "      box-shadow: 0px 1px 2px rgba(60, 64, 67, 0.3), 0px 1px 3px 1px rgba(60, 64, 67, 0.15);\n",
       "      fill: #174EA6;\n",
       "    }\n",
       "\n",
       "    [theme=dark] .colab-df-convert {\n",
       "      background-color: #3B4455;\n",
       "      fill: #D2E3FC;\n",
       "    }\n",
       "\n",
       "    [theme=dark] .colab-df-convert:hover {\n",
       "      background-color: #434B5C;\n",
       "      box-shadow: 0px 1px 3px 1px rgba(0, 0, 0, 0.15);\n",
       "      filter: drop-shadow(0px 1px 2px rgba(0, 0, 0, 0.3));\n",
       "      fill: #FFFFFF;\n",
       "    }\n",
       "  </style>\n",
       "\n",
       "      <script>\n",
       "        const buttonEl =\n",
       "          document.querySelector('#df-44008557-d3a3-40f6-bff9-05b2dadf66be button.colab-df-convert');\n",
       "        buttonEl.style.display =\n",
       "          google.colab.kernel.accessAllowed ? 'block' : 'none';\n",
       "\n",
       "        async function convertToInteractive(key) {\n",
       "          const element = document.querySelector('#df-44008557-d3a3-40f6-bff9-05b2dadf66be');\n",
       "          const dataTable =\n",
       "            await google.colab.kernel.invokeFunction('convertToInteractive',\n",
       "                                                     [key], {});\n",
       "          if (!dataTable) return;\n",
       "\n",
       "          const docLinkHtml = 'Like what you see? Visit the ' +\n",
       "            '<a target=\"_blank\" href=https://colab.research.google.com/notebooks/data_table.ipynb>data table notebook</a>'\n",
       "            + ' to learn more about interactive tables.';\n",
       "          element.innerHTML = '';\n",
       "          dataTable['output_type'] = 'display_data';\n",
       "          await google.colab.output.renderOutput(dataTable, element);\n",
       "          const docLink = document.createElement('div');\n",
       "          docLink.innerHTML = docLinkHtml;\n",
       "          element.appendChild(docLink);\n",
       "        }\n",
       "      </script>\n",
       "    </div>\n",
       "  </div>\n",
       "  "
      ],
      "text/plain": [
       "        slateid  userid                    time  \\\n",
       "0             1  U13740   11/11/2019 9:05:58 AM   \n",
       "1             2  U91836   11/12/2019 6:11:30 PM   \n",
       "2             3  U73700   11/14/2019 7:01:48 AM   \n",
       "3             4  U34670   11/11/2019 5:28:05 AM   \n",
       "4             5   U8125   11/12/2019 4:11:21 PM   \n",
       "...         ...     ...                     ...   \n",
       "147137   156961  U21593  11/14/2019 10:24:05 PM   \n",
       "147138   156962  U10123   11/13/2019 6:57:04 AM   \n",
       "147139   156963  U75630  11/14/2019 10:58:13 AM   \n",
       "147140   156964  U44625   11/13/2019 2:57:02 PM   \n",
       "147141   156965  U64800   11/14/2019 3:25:49 PM   \n",
       "\n",
       "                                                  history  \\\n",
       "0                                    N45794 N19347 N31801   \n",
       "1       N31739 N6072 N63045 N43353 N8129 N1569 N17686 ...   \n",
       "2                                            N7563 N24233   \n",
       "3                                                           \n",
       "4                                                           \n",
       "...                                                   ...   \n",
       "147137  N58559 N1954 N43353 N14343 N44495 N996 N14441 ...   \n",
       "147138           N57318 N54842 N11037 N44070 N8549 N40509   \n",
       "147139                         N59704 N12844 N8270 N29510   \n",
       "147140  N3164 N53854 N44649 N26398 N43983 N16516 N6373...   \n",
       "147141                                      N22997 N48742   \n",
       "\n",
       "                                              impressions  \\\n",
       "0                                                N35729-0   \n",
       "1                              N39317-0 N20495-0 N42977-0   \n",
       "2       N23877-0 N49712-0 N64174-0 N46821-0 N48017-0 N...   \n",
       "3                                                N35729-0   \n",
       "4       N16096-0 N45389-0 N35850-0 N28495-0 N39317-0 N...   \n",
       "...                                                   ...   \n",
       "147137  N64037-0 N42515-0 N56211-0 N46917-0 N63913-0 N...   \n",
       "147138  N58813-0 N4428-0 N32118-0 N22457-0 N9187-0 N45...   \n",
       "147139       N34869-0 N38779-0 N25165-0 N34668-0 N46283-1   \n",
       "147140  N3663-0 N31147-0 N4107-0 N27515-0 N20495-0 N18...   \n",
       "147141                                           N19661-0   \n",
       "\n",
       "                                   history_all_categories  \\\n",
       "0       tv sports tv news sports lifestyle movies news...   \n",
       "1       news news news finance travel news news news n...   \n",
       "2       lifestyle lifestyle news sports tv weather spo...   \n",
       "3       tv sports tv finance finance sports lifestyle ...   \n",
       "4                             autos travel weather health   \n",
       "...                                                   ...   \n",
       "147137  video news news news news finance video lifest...   \n",
       "147138  finance sports sports news lifestyle music spo...   \n",
       "147139  travel news sports finance foodanddrink travel...   \n",
       "147140  lifestyle weather news finance entertainment t...   \n",
       "147141                                          news news   \n",
       "\n",
       "                                history_all_subcategories  \\\n",
       "0       tvnews baseball_mlb tvnews newscrime football_...   \n",
       "1       newscrime newsus newscrime markets travelnews ...   \n",
       "2       lifestylebuzz lifestylehomeandgarden newsus fo...   \n",
       "3       tv-celebrity baseball_mlb tv-celebrity markets...   \n",
       "4       autosownership travelnews weathertopstories we...   \n",
       "...                                                   ...   \n",
       "147137  science newsus newspolitics newscrime newsworl...   \n",
       "147138  markets golfvideos golf newsus lifestylehomean...   \n",
       "147139  travelnews newscrime football_nfl markets vide...   \n",
       "147140  lifestylehomeandgarden weathertopstories newsw...   \n",
       "147141                                newscrime newscrime   \n",
       "\n",
       "                                              history_all  \n",
       "0       N55189 N42782 N34694 N45794 N18445 N63302 N104...  \n",
       "1       N31739 N6072 N63045 N23979 N35656 N43353 N8129...  \n",
       "2       N10732 N25792 N7563 N21087 N41087 N5445 N60384...  \n",
       "3       N45729 N2203 N871 N53880 N41375 N43142 N33013 ...  \n",
       "4                             N10078 N56514 N14904 N33740  \n",
       "...                                                   ...  \n",
       "147137  N7432 N58559 N1954 N43353 N14343 N13008 N28833...  \n",
       "147138  N9803 N104 N24462 N57318 N55743 N40526 N31726 ...  \n",
       "147139  N29898 N59704 N4408 N9803 N53644 N26103 N812 N...  \n",
       "147140  N4118 N47297 N3164 N43295 N6056 N38747 N42973 ...  \n",
       "147141                                      N22997 N48742  \n",
       "\n",
       "[147142 rows x 8 columns]"
      ]
     },
     "execution_count": 3,
     "metadata": {},
     "output_type": "execute_result"
    }
   ],
   "source": [
    "behaviors_train = pd.read_csv(COLD_START_BEHAVIORS_TRAIN, sep=\"\\t\")\n",
    "behaviors_train"
   ]
  },
  {
   "cell_type": "code",
   "execution_count": null,
   "id": "5OT80xzBe6lg",
   "metadata": {
    "colab": {
     "base_uri": "https://localhost:8080/",
     "height": 423
    },
    "id": "5OT80xzBe6lg",
    "outputId": "98951a2b-7d80-41aa-e36f-e77c4da21ede"
   },
   "outputs": [
    {
     "data": {
      "text/html": [
       "\n",
       "  <div id=\"df-16f1955c-afb9-4f69-b25a-8eaa9917fd84\">\n",
       "    <div class=\"colab-df-container\">\n",
       "      <div>\n",
       "<style scoped>\n",
       "    .dataframe tbody tr th:only-of-type {\n",
       "        vertical-align: middle;\n",
       "    }\n",
       "\n",
       "    .dataframe tbody tr th {\n",
       "        vertical-align: top;\n",
       "    }\n",
       "\n",
       "    .dataframe thead th {\n",
       "        text-align: right;\n",
       "    }\n",
       "</style>\n",
       "<table border=\"1\" class=\"dataframe\">\n",
       "  <thead>\n",
       "    <tr style=\"text-align: right;\">\n",
       "      <th></th>\n",
       "      <th>slateid</th>\n",
       "      <th>userid</th>\n",
       "      <th>time</th>\n",
       "      <th>history</th>\n",
       "      <th>impressions</th>\n",
       "      <th>history_all_categories</th>\n",
       "      <th>history_all_subcategories</th>\n",
       "      <th>history_all</th>\n",
       "    </tr>\n",
       "  </thead>\n",
       "  <tbody>\n",
       "    <tr>\n",
       "      <th>0</th>\n",
       "      <td>1</td>\n",
       "      <td>U80234</td>\n",
       "      <td>11/15/2019 12:37:50 PM</td>\n",
       "      <td>N46039 N53234 N6616 N63573 N38895</td>\n",
       "      <td>N50775-0</td>\n",
       "      <td>tv news tv news finance autos tv movies entert...</td>\n",
       "      <td>tvnews newsus tv-celebrity newsus finance-comp...</td>\n",
       "      <td>N55189 N46039 N51741 N53234 N11276 N264 N40716...</td>\n",
       "    </tr>\n",
       "    <tr>\n",
       "      <th>1</th>\n",
       "      <td>2</td>\n",
       "      <td>U60458</td>\n",
       "      <td>11/15/2019 7:11:50 AM</td>\n",
       "      <td>N58715 N33438 N54827 N34775</td>\n",
       "      <td>N36779-0</td>\n",
       "      <td>news travel finance news news finance music ne...</td>\n",
       "      <td>newsus travelnews finance-companies newsscienc...</td>\n",
       "      <td>N58715 N32109 N51180 N33438 N54827 N28488 N611...</td>\n",
       "    </tr>\n",
       "    <tr>\n",
       "      <th>2</th>\n",
       "      <td>3</td>\n",
       "      <td>U44190</td>\n",
       "      <td>11/15/2019 9:55:12 AM</td>\n",
       "      <td>N1150 N16233 N53033</td>\n",
       "      <td>N36779-0 N50775-0</td>\n",
       "      <td>sports news tv news lifestyle sports news ente...</td>\n",
       "      <td>football_nfl newscrime tvnews newsus shop-book...</td>\n",
       "      <td>N56253 N1150 N55189 N16233 N61704 N51706 N5303...</td>\n",
       "    </tr>\n",
       "    <tr>\n",
       "      <th>3</th>\n",
       "      <td>4</td>\n",
       "      <td>U87380</td>\n",
       "      <td>11/15/2019 3:12:46 PM</td>\n",
       "      <td>N49153 N58518 N7649 N45794 N53033 N29361 N28247</td>\n",
       "      <td>N45057-0</td>\n",
       "      <td>travel news sports sports travel news tv news ...</td>\n",
       "      <td>traveltripideas newsus baseball_mlb football_n...</td>\n",
       "      <td>N63554 N49153 N28678 N23232 N43369 N58518 N444...</td>\n",
       "    </tr>\n",
       "    <tr>\n",
       "      <th>4</th>\n",
       "      <td>5</td>\n",
       "      <td>U9444</td>\n",
       "      <td>11/15/2019 8:25:46 AM</td>\n",
       "      <td></td>\n",
       "      <td>N36779-0</td>\n",
       "      <td>tv sports entertainment sports finance</td>\n",
       "      <td>tv-celebrity football_nfl celebrity golf perso...</td>\n",
       "      <td>N51692 N18285 N26015 N22679 N55556</td>\n",
       "    </tr>\n",
       "    <tr>\n",
       "      <th>...</th>\n",
       "      <td>...</td>\n",
       "      <td>...</td>\n",
       "      <td>...</td>\n",
       "      <td>...</td>\n",
       "      <td>...</td>\n",
       "      <td>...</td>\n",
       "      <td>...</td>\n",
       "      <td>...</td>\n",
       "    </tr>\n",
       "    <tr>\n",
       "      <th>57853</th>\n",
       "      <td>73147</td>\n",
       "      <td>U67440</td>\n",
       "      <td>11/15/2019 10:27:45 AM</td>\n",
       "      <td>N9897 N1569 N11641 N15542 N13304 N43265 N11863...</td>\n",
       "      <td>N50775-0 N36779-0 N12446-0 N26572-0 N33397-0 N...</td>\n",
       "      <td>travel news foodanddrink news lifestyle video ...</td>\n",
       "      <td>travelnews newsus foodnews newsus lifestyleroy...</td>\n",
       "      <td>N55312 N9897 N55846 N1569 N6956 N28501 N11641 ...</td>\n",
       "    </tr>\n",
       "    <tr>\n",
       "      <th>57854</th>\n",
       "      <td>73148</td>\n",
       "      <td>U77536</td>\n",
       "      <td>11/15/2019 8:40:16 PM</td>\n",
       "      <td>N58434 N47020 N7884 N46259 N8024 N47020 N63370</td>\n",
       "      <td>N50775-0 N7993-0 N17513-0</td>\n",
       "      <td>movies tv news foodanddrink finance autos news...</td>\n",
       "      <td>movienews tv-celebrity newsus foodnews finance...</td>\n",
       "      <td>N28691 N8845 N58434 N37120 N22185 N60033 N4702...</td>\n",
       "    </tr>\n",
       "    <tr>\n",
       "      <th>57855</th>\n",
       "      <td>73150</td>\n",
       "      <td>U16799</td>\n",
       "      <td>11/15/2019 3:37:06 PM</td>\n",
       "      <td></td>\n",
       "      <td>N45057-0 N16120-0 N7993-0 N5051-0 N50775-0 N33...</td>\n",
       "      <td>tv tv tv music finance movies</td>\n",
       "      <td>tvnews tv-celebrity tv-celebrity musicnews per...</td>\n",
       "      <td>N40826 N42078 N15670 N15295 N64536 N46845 N52294</td>\n",
       "    </tr>\n",
       "    <tr>\n",
       "      <th>57856</th>\n",
       "      <td>73151</td>\n",
       "      <td>U8786</td>\n",
       "      <td>11/15/2019 8:29:26 AM</td>\n",
       "      <td></td>\n",
       "      <td>N36779-0</td>\n",
       "      <td>lifestyle lifestyle lifestyle autos health hea...</td>\n",
       "      <td>lifestyleroyals lifestyleroyals lifestyleroyal...</td>\n",
       "      <td>N3046 N356 N20483 N46107 N44598 N18693 N8254 N...</td>\n",
       "    </tr>\n",
       "    <tr>\n",
       "      <th>57857</th>\n",
       "      <td>73152</td>\n",
       "      <td>U68182</td>\n",
       "      <td>11/15/2019 11:54:34 AM</td>\n",
       "      <td>N53568 N43123 N58235 N50069 N23653 N12003 N477...</td>\n",
       "      <td>N50775-0</td>\n",
       "      <td>sports news sports sports health news health l...</td>\n",
       "      <td>football_nfl newsworld football_nfl football_n...</td>\n",
       "      <td>N20297 N53568 N4690 N60608 N43709 N43123 N1885...</td>\n",
       "    </tr>\n",
       "  </tbody>\n",
       "</table>\n",
       "<p>57858 rows × 8 columns</p>\n",
       "</div>\n",
       "      <button class=\"colab-df-convert\" onclick=\"convertToInteractive('df-16f1955c-afb9-4f69-b25a-8eaa9917fd84')\"\n",
       "              title=\"Convert this dataframe to an interactive table.\"\n",
       "              style=\"display:none;\">\n",
       "        \n",
       "  <svg xmlns=\"http://www.w3.org/2000/svg\" height=\"24px\"viewBox=\"0 0 24 24\"\n",
       "       width=\"24px\">\n",
       "    <path d=\"M0 0h24v24H0V0z\" fill=\"none\"/>\n",
       "    <path d=\"M18.56 5.44l.94 2.06.94-2.06 2.06-.94-2.06-.94-.94-2.06-.94 2.06-2.06.94zm-11 1L8.5 8.5l.94-2.06 2.06-.94-2.06-.94L8.5 2.5l-.94 2.06-2.06.94zm10 10l.94 2.06.94-2.06 2.06-.94-2.06-.94-.94-2.06-.94 2.06-2.06.94z\"/><path d=\"M17.41 7.96l-1.37-1.37c-.4-.4-.92-.59-1.43-.59-.52 0-1.04.2-1.43.59L10.3 9.45l-7.72 7.72c-.78.78-.78 2.05 0 2.83L4 21.41c.39.39.9.59 1.41.59.51 0 1.02-.2 1.41-.59l7.78-7.78 2.81-2.81c.8-.78.8-2.07 0-2.86zM5.41 20L4 18.59l7.72-7.72 1.47 1.35L5.41 20z\"/>\n",
       "  </svg>\n",
       "      </button>\n",
       "      \n",
       "  <style>\n",
       "    .colab-df-container {\n",
       "      display:flex;\n",
       "      flex-wrap:wrap;\n",
       "      gap: 12px;\n",
       "    }\n",
       "\n",
       "    .colab-df-convert {\n",
       "      background-color: #E8F0FE;\n",
       "      border: none;\n",
       "      border-radius: 50%;\n",
       "      cursor: pointer;\n",
       "      display: none;\n",
       "      fill: #1967D2;\n",
       "      height: 32px;\n",
       "      padding: 0 0 0 0;\n",
       "      width: 32px;\n",
       "    }\n",
       "\n",
       "    .colab-df-convert:hover {\n",
       "      background-color: #E2EBFA;\n",
       "      box-shadow: 0px 1px 2px rgba(60, 64, 67, 0.3), 0px 1px 3px 1px rgba(60, 64, 67, 0.15);\n",
       "      fill: #174EA6;\n",
       "    }\n",
       "\n",
       "    [theme=dark] .colab-df-convert {\n",
       "      background-color: #3B4455;\n",
       "      fill: #D2E3FC;\n",
       "    }\n",
       "\n",
       "    [theme=dark] .colab-df-convert:hover {\n",
       "      background-color: #434B5C;\n",
       "      box-shadow: 0px 1px 3px 1px rgba(0, 0, 0, 0.15);\n",
       "      filter: drop-shadow(0px 1px 2px rgba(0, 0, 0, 0.3));\n",
       "      fill: #FFFFFF;\n",
       "    }\n",
       "  </style>\n",
       "\n",
       "      <script>\n",
       "        const buttonEl =\n",
       "          document.querySelector('#df-16f1955c-afb9-4f69-b25a-8eaa9917fd84 button.colab-df-convert');\n",
       "        buttonEl.style.display =\n",
       "          google.colab.kernel.accessAllowed ? 'block' : 'none';\n",
       "\n",
       "        async function convertToInteractive(key) {\n",
       "          const element = document.querySelector('#df-16f1955c-afb9-4f69-b25a-8eaa9917fd84');\n",
       "          const dataTable =\n",
       "            await google.colab.kernel.invokeFunction('convertToInteractive',\n",
       "                                                     [key], {});\n",
       "          if (!dataTable) return;\n",
       "\n",
       "          const docLinkHtml = 'Like what you see? Visit the ' +\n",
       "            '<a target=\"_blank\" href=https://colab.research.google.com/notebooks/data_table.ipynb>data table notebook</a>'\n",
       "            + ' to learn more about interactive tables.';\n",
       "          element.innerHTML = '';\n",
       "          dataTable['output_type'] = 'display_data';\n",
       "          await google.colab.output.renderOutput(dataTable, element);\n",
       "          const docLink = document.createElement('div');\n",
       "          docLink.innerHTML = docLinkHtml;\n",
       "          element.appendChild(docLink);\n",
       "        }\n",
       "      </script>\n",
       "    </div>\n",
       "  </div>\n",
       "  "
      ],
      "text/plain": [
       "       slateid  userid                    time  \\\n",
       "0            1  U80234  11/15/2019 12:37:50 PM   \n",
       "1            2  U60458   11/15/2019 7:11:50 AM   \n",
       "2            3  U44190   11/15/2019 9:55:12 AM   \n",
       "3            4  U87380   11/15/2019 3:12:46 PM   \n",
       "4            5   U9444   11/15/2019 8:25:46 AM   \n",
       "...        ...     ...                     ...   \n",
       "57853    73147  U67440  11/15/2019 10:27:45 AM   \n",
       "57854    73148  U77536   11/15/2019 8:40:16 PM   \n",
       "57855    73150  U16799   11/15/2019 3:37:06 PM   \n",
       "57856    73151   U8786   11/15/2019 8:29:26 AM   \n",
       "57857    73152  U68182  11/15/2019 11:54:34 AM   \n",
       "\n",
       "                                                 history  \\\n",
       "0                      N46039 N53234 N6616 N63573 N38895   \n",
       "1                            N58715 N33438 N54827 N34775   \n",
       "2                                    N1150 N16233 N53033   \n",
       "3        N49153 N58518 N7649 N45794 N53033 N29361 N28247   \n",
       "4                                                          \n",
       "...                                                  ...   \n",
       "57853  N9897 N1569 N11641 N15542 N13304 N43265 N11863...   \n",
       "57854     N58434 N47020 N7884 N46259 N8024 N47020 N63370   \n",
       "57855                                                      \n",
       "57856                                                      \n",
       "57857  N53568 N43123 N58235 N50069 N23653 N12003 N477...   \n",
       "\n",
       "                                             impressions  \\\n",
       "0                                               N50775-0   \n",
       "1                                               N36779-0   \n",
       "2                                      N36779-0 N50775-0   \n",
       "3                                               N45057-0   \n",
       "4                                               N36779-0   \n",
       "...                                                  ...   \n",
       "57853  N50775-0 N36779-0 N12446-0 N26572-0 N33397-0 N...   \n",
       "57854                          N50775-0 N7993-0 N17513-0   \n",
       "57855  N45057-0 N16120-0 N7993-0 N5051-0 N50775-0 N33...   \n",
       "57856                                           N36779-0   \n",
       "57857                                           N50775-0   \n",
       "\n",
       "                                  history_all_categories  \\\n",
       "0      tv news tv news finance autos tv movies entert...   \n",
       "1      news travel finance news news finance music ne...   \n",
       "2      sports news tv news lifestyle sports news ente...   \n",
       "3      travel news sports sports travel news tv news ...   \n",
       "4                 tv sports entertainment sports finance   \n",
       "...                                                  ...   \n",
       "57853  travel news foodanddrink news lifestyle video ...   \n",
       "57854  movies tv news foodanddrink finance autos news...   \n",
       "57855                      tv tv tv music finance movies   \n",
       "57856  lifestyle lifestyle lifestyle autos health hea...   \n",
       "57857  sports news sports sports health news health l...   \n",
       "\n",
       "                               history_all_subcategories  \\\n",
       "0      tvnews newsus tv-celebrity newsus finance-comp...   \n",
       "1      newsus travelnews finance-companies newsscienc...   \n",
       "2      football_nfl newscrime tvnews newsus shop-book...   \n",
       "3      traveltripideas newsus baseball_mlb football_n...   \n",
       "4      tv-celebrity football_nfl celebrity golf perso...   \n",
       "...                                                  ...   \n",
       "57853  travelnews newsus foodnews newsus lifestyleroy...   \n",
       "57854  movienews tv-celebrity newsus foodnews finance...   \n",
       "57855  tvnews tv-celebrity tv-celebrity musicnews per...   \n",
       "57856  lifestyleroyals lifestyleroyals lifestyleroyal...   \n",
       "57857  football_nfl newsworld football_nfl football_n...   \n",
       "\n",
       "                                             history_all  \n",
       "0      N55189 N46039 N51741 N53234 N11276 N264 N40716...  \n",
       "1      N58715 N32109 N51180 N33438 N54827 N28488 N611...  \n",
       "2      N56253 N1150 N55189 N16233 N61704 N51706 N5303...  \n",
       "3      N63554 N49153 N28678 N23232 N43369 N58518 N444...  \n",
       "4                     N51692 N18285 N26015 N22679 N55556  \n",
       "...                                                  ...  \n",
       "57853  N55312 N9897 N55846 N1569 N6956 N28501 N11641 ...  \n",
       "57854  N28691 N8845 N58434 N37120 N22185 N60033 N4702...  \n",
       "57855   N40826 N42078 N15670 N15295 N64536 N46845 N52294  \n",
       "57856  N3046 N356 N20483 N46107 N44598 N18693 N8254 N...  \n",
       "57857  N20297 N53568 N4690 N60608 N43709 N43123 N1885...  \n",
       "\n",
       "[57858 rows x 8 columns]"
      ]
     },
     "execution_count": 4,
     "metadata": {},
     "output_type": "execute_result"
    }
   ],
   "source": [
    "behaviors_test = pd.read_csv(COLD_START_BEHAVIORS_TEST, sep=\"\\t\")\n",
    "behaviors_test"
   ]
  },
  {
   "cell_type": "markdown",
   "id": "f524f370-cfa5-4b35-86f6-f80c2a518965",
   "metadata": {
    "id": "f524f370-cfa5-4b35-86f6-f80c2a518965",
    "tags": []
   },
   "source": [
    "### Unique slate count"
   ]
  },
  {
   "cell_type": "code",
   "execution_count": null,
   "id": "b533c640-ba8c-451d-ab40-554fcc271223",
   "metadata": {
    "colab": {
     "base_uri": "https://localhost:8080/"
    },
    "id": "b533c640-ba8c-451d-ab40-554fcc271223",
    "outputId": "d22cb370-89e1-42b6-fc14-d7950fd18871"
   },
   "outputs": [
    {
     "data": {
      "text/plain": [
       "(147142, 57858)"
      ]
     },
     "execution_count": 5,
     "metadata": {},
     "output_type": "execute_result"
    }
   ],
   "source": [
    "behaviors_train.slateid.nunique(), behaviors_test.slateid.nunique()"
   ]
  },
  {
   "cell_type": "markdown",
   "id": "eb4a3627-0f61-451e-9938-991d9934b72a",
   "metadata": {
    "id": "eb4a3627-0f61-451e-9938-991d9934b72a"
   },
   "source": [
    "### Unique user count"
   ]
  },
  {
   "cell_type": "code",
   "execution_count": null,
   "id": "a4b37ba0-21a8-446b-8636-0c8661555fe9",
   "metadata": {
    "colab": {
     "base_uri": "https://localhost:8080/"
    },
    "id": "a4b37ba0-21a8-446b-8636-0c8661555fe9",
    "outputId": "0948a5cd-70b7-4301-9f7c-862f76eb58ad"
   },
   "outputs": [
    {
     "data": {
      "text/plain": [
       "(48106, 41719)"
      ]
     },
     "execution_count": 6,
     "metadata": {},
     "output_type": "execute_result"
    }
   ],
   "source": [
    "# unique users per dataset\n",
    "behaviors_train.userid.nunique(), behaviors_test.userid.nunique()"
   ]
  },
  {
   "cell_type": "code",
   "execution_count": null,
   "id": "4XnPBAssr9Bm",
   "metadata": {
    "colab": {
     "base_uri": "https://localhost:8080/"
    },
    "id": "4XnPBAssr9Bm",
    "outputId": "d17aec31-ed40-4546-8d9d-156fbd3c4cd0"
   },
   "outputs": [
    {
     "data": {
      "text/plain": [
       "4913"
      ]
     },
     "execution_count": 7,
     "metadata": {},
     "output_type": "execute_result"
    }
   ],
   "source": [
    "# do datasets share users?\n",
    "len(set(behaviors_train.userid.unique()) & set(behaviors_test.userid.unique()))"
   ]
  },
  {
   "cell_type": "markdown",
   "id": "xRkTyd-Ubaaa",
   "metadata": {
    "id": "xRkTyd-Ubaaa"
   },
   "source": [
    "### Unique arcticles count"
   ]
  },
  {
   "cell_type": "code",
   "execution_count": null,
   "id": "lKmnTKpxbXK4",
   "metadata": {
    "id": "lKmnTKpxbXK4"
   },
   "outputs": [],
   "source": [
    "# unique articles per dataset\n",
    "train_unq_hist_articles = behaviors_train.history.map(lambda x: x.split()).explode().dropna().unique().tolist()\n",
    "train_uniq_imp_articles = behaviors_train.impressions.map(lambda x: [xx [:-2]for xx in x.split()]).explode().unique().tolist()\n",
    "\n",
    "train_unq_articles = set(train_unq_hist_articles + train_uniq_imp_articles)\n",
    "\n",
    "test_unq_hist_articles = behaviors_test.history.map(lambda x: x.split()).explode().dropna().unique().tolist()\n",
    "test_uniq_imp_articles = behaviors_test.impressions.map(lambda x: [xx [:-2]for xx in x.split()]).explode().unique().tolist()\n",
    "\n",
    "test_unq_articles = set(test_unq_hist_articles + test_uniq_imp_articles)"
   ]
  },
  {
   "cell_type": "code",
   "execution_count": null,
   "id": "1BqGBexT1CEH",
   "metadata": {
    "colab": {
     "base_uri": "https://localhost:8080/"
    },
    "id": "1BqGBexT1CEH",
    "outputId": "15eaf2dc-e012-42fa-cdf2-4c711111358a"
   },
   "outputs": [
    {
     "data": {
      "text/plain": [
       "(15753, 8607)"
      ]
     },
     "execution_count": 10,
     "metadata": {},
     "output_type": "execute_result"
    }
   ],
   "source": [
    "len(train_unq_articles), len(test_unq_articles)"
   ]
  },
  {
   "cell_type": "code",
   "execution_count": null,
   "id": "muTSVH6BsTdH",
   "metadata": {
    "colab": {
     "base_uri": "https://localhost:8080/"
    },
    "id": "muTSVH6BsTdH",
    "outputId": "d85d1f44-999a-4760-ab86-97e0efc000d4"
   },
   "outputs": [
    {
     "data": {
      "text/plain": [
       "8604"
      ]
     },
     "execution_count": 11,
     "metadata": {},
     "output_type": "execute_result"
    }
   ],
   "source": [
    "# do dataset share articles?\n",
    "len(train_unq_articles & test_unq_articles)"
   ]
  },
  {
   "cell_type": "markdown",
   "id": "QMxgQvmZcI3Y",
   "metadata": {
    "id": "QMxgQvmZcI3Y"
   },
   "source": [
    "### Unique categories count"
   ]
  },
  {
   "cell_type": "code",
   "execution_count": null,
   "id": "6wFaUdQAcH5F",
   "metadata": {
    "colab": {
     "base_uri": "https://localhost:8080/"
    },
    "id": "6wFaUdQAcH5F",
    "outputId": "49ca3f72-6d2d-4a05-e99a-1a582d8b67ea"
   },
   "outputs": [
    {
     "data": {
      "text/plain": [
       "(16, 16)"
      ]
     },
     "execution_count": 12,
     "metadata": {},
     "output_type": "execute_result"
    }
   ],
   "source": [
    "behaviors_train.history_all_categories.map(lambda x: x.split()).explode().nunique(), behaviors_test.history_all_categories.map(lambda x: x.split()).explode().nunique()"
   ]
  },
  {
   "cell_type": "markdown",
   "id": "JkY2LDv2cXAV",
   "metadata": {
    "id": "JkY2LDv2cXAV"
   },
   "source": [
    "### Unique subcategories count"
   ]
  },
  {
   "cell_type": "code",
   "execution_count": null,
   "id": "JnEBigBWcY7y",
   "metadata": {
    "colab": {
     "base_uri": "https://localhost:8080/"
    },
    "id": "JnEBigBWcY7y",
    "outputId": "502f1501-84ce-4892-e051-c385e0730b1a"
   },
   "outputs": [
    {
     "data": {
      "text/plain": [
       "(241, 231)"
      ]
     },
     "execution_count": 13,
     "metadata": {},
     "output_type": "execute_result"
    }
   ],
   "source": [
    "behaviors_train.history_all_subcategories.map(lambda x: x.split()).explode().nunique(), behaviors_test.history_all_subcategories.map(lambda x: x.split()).explode().nunique()"
   ]
  },
  {
   "cell_type": "code",
   "execution_count": null,
   "id": "5b095fd8-2f51-41d4-a4ab-d21362f78782",
   "metadata": {
    "id": "5b095fd8-2f51-41d4-a4ab-d21362f78782"
   },
   "outputs": [],
   "source": [
    "def item_len(x):\n",
    "    return len(x.split())"
   ]
  },
  {
   "cell_type": "code",
   "execution_count": null,
   "id": "a6260528-2af5-4112-9a09-356e6f2f6f51",
   "metadata": {
    "colab": {
     "base_uri": "https://localhost:8080/",
     "height": 295
    },
    "id": "a6260528-2af5-4112-9a09-356e6f2f6f51",
    "outputId": "a077fa8b-0a82-49d1-d2a7-dfa8323b10a7"
   },
   "outputs": [
    {
     "data": {
      "image/png": "[encoded data removed]",
      "text/plain": [
       "<Figure size 1440x288 with 1 Axes>"
      ]
     },
     "metadata": {
      "needs_background": "light"
     },
     "output_type": "display_data"
    }
   ],
   "source": [
    "bins = range(50)\n",
    "ax = behaviors_train[\"impressions\"].apply(item_len).plot.hist(\n",
    "    bins=bins, figsize=(20, 4), cumulative=True, density=True, title=\"Cumulative distribution of slates w.r.t. their size\", histtype=\"step\"\n",
    ")\n",
    "\n",
    "behaviors_test[\"impressions\"].apply(item_len).plot.hist(\n",
    "     bins=bins, ax=ax, cumulative=True, density=True, histtype=\"step\"\n",
    ")\n",
    "\n",
    "\n",
    "plt.legend([\"Train dataset\", \"Test dataset\"])\n",
    "\n",
    "plt.xlabel(\"Slate size\")\n",
    "plt.show()"
   ]
  },
  {
   "cell_type": "code",
   "execution_count": null,
   "id": "fbf59f3e-e7af-4118-a37f-50452b6601ac",
   "metadata": {
    "colab": {
     "base_uri": "https://localhost:8080/",
     "height": 295
    },
    "id": "fbf59f3e-e7af-4118-a37f-50452b6601ac",
    "outputId": "159d01b1-990e-4eba-95a2-30ad7ab21a03"
   },
   "outputs": [
    {
     "data": {
      "image/png": "[encoded data removed]",
      "text/plain": [
       "<Figure size 1440x288 with 1 Axes>"
      ]
     },
     "metadata": {
      "needs_background": "light"
     },
     "output_type": "display_data"
    }
   ],
   "source": [
    "bins=range(10)\n",
    "\n",
    "ax = behaviors_train.groupby(\"userid\")[\"slateid\"].count().plot.hist(\n",
    "    bins=bins, figsize=(20, 4), cumulative=True, density=True, histtype=\"step\", title=\"Cumulative distribution of users w.r.t. slate count\"\n",
    ")\n",
    "\n",
    "behaviors_test.groupby(\"userid\")[\"slateid\"].count().plot.hist(\n",
    "    bins=bins, cumulative=True, density=True, histtype=\"step\"\n",
    ")\n",
    "\n",
    "plt.legend([\"Train dataset\", \"Test dataset\"])\n",
    "\n",
    "plt.xlabel(\"Slate count\")\n",
    "plt.show()"
   ]
  },
  {
   "cell_type": "code",
   "execution_count": null,
   "id": "753727b6-fbbc-473e-be15-5b3cc4cee109",
   "metadata": {
    "colab": {
     "base_uri": "https://localhost:8080/",
     "height": 295
    },
    "id": "753727b6-fbbc-473e-be15-5b3cc4cee109",
    "outputId": "d6a6dc65-1b08-4ea4-c6e1-9bd2cba04437"
   },
   "outputs": [
    {
     "data": {
      "image/png": "[encoded data removed]",
      "text/plain": [
       "<Figure size 1440x288 with 1 Axes>"
      ]
     },
     "metadata": {
      "needs_background": "light"
     },
     "output_type": "display_data"
    }
   ],
   "source": [
    "bins=range(50)\n",
    "\n",
    "ax = behaviors_train[\"history\"].apply(item_len).plot.hist(\n",
    "    bins=bins, figsize=(20, 4), cumulative=True, density=True, histtype = \"step\", title=\"Cumulative distribution of history sizes\"\n",
    ")\n",
    "\n",
    "ax = behaviors_test[\"history\"].apply(item_len).plot.hist(\n",
    "    bins=bins, cumulative=True, density=True, histtype = \"step\"\n",
    ")\n",
    "\n",
    "plt.legend([\"Train dataset\", \"Test dataset\"])\n",
    "\n",
    "plt.xlabel(\"History size\")\n",
    "plt.show()"
   ]
  },
  {
   "cell_type": "code",
   "execution_count": null,
   "id": "7aa79d30-7cf5-4b43-8a18-c34eb457f8db",
   "metadata": {
    "id": "7aa79d30-7cf5-4b43-8a18-c34eb457f8db"
   },
   "outputs": [],
   "source": [
    "behaviors_train[\"clicks\"] = behaviors_train[\"impressions\"].apply(\n",
    "    lambda x: \" \".join(xx[:-2] for xx in x.split(\" \") if xx.endswith(\"1\"))\n",
    ")\n",
    "\n",
    "behaviors_test[\"clicks\"] = behaviors_test[\"impressions\"].apply(\n",
    "    lambda x: \" \".join(xx[:-2] for xx in x.split(\" \") if xx.endswith(\"1\"))\n",
    ")"
   ]
  },
  {
   "cell_type": "code",
   "execution_count": null,
   "id": "f32dde0c-555d-4d3d-a595-577c02439db0",
   "metadata": {
    "colab": {
     "base_uri": "https://localhost:8080/",
     "height": 295
    },
    "id": "f32dde0c-555d-4d3d-a595-577c02439db0",
    "outputId": "3e010e23-55d7-4aa3-f044-0d850d2dd424"
   },
   "outputs": [
    {
     "data": {
      "image/png": "[encoded data removed]",
      "text/plain": [
       "<Figure size 1440x288 with 1 Axes>"
      ]
     },
     "metadata": {
      "needs_background": "light"
     },
     "output_type": "display_data"
    }
   ],
   "source": [
    "bins=range(10)\n",
    "\n",
    "ax = (\n",
    "    behaviors_train.assign(clicks_cnt=lambda x: x[\"clicks\"].apply(item_len))\n",
    "    .groupby(\"userid\")[\"clicks_cnt\"]\n",
    "    .sum()\n",
    "    .plot.hist(\n",
    "        bins=bins, figsize=(20, 4), density=True, cumulative=True, histtype=\"step\", title=\"Cumulative distribution of users w.r.t. their clicks\"\n",
    "    )\n",
    ")\n",
    "\n",
    "(\n",
    "    behaviors_test.assign(clicks_cnt=lambda x: x[\"clicks\"].apply(item_len))\n",
    "    .groupby(\"userid\")[\"clicks_cnt\"]\n",
    "    .sum()\n",
    "    .plot.hist(\n",
    "        bins=bins, ax=ax, density=True, cumulative=True, histtype=\"step\"\n",
    "    )\n",
    ")\n",
    "\n",
    "plt.legend([\"Train dataset\", \"Test dataset\"])\n",
    "\n",
    "plt.xlabel(\"Clicks\")\n",
    "plt.show()"
   ]
  },
  {
   "cell_type": "code",
   "execution_count": null,
   "id": "xr7YlM29fu9A",
   "metadata": {
    "id": "xr7YlM29fu9A"
   },
   "outputs": [],
   "source": [
    "def compute_cat_hist(df, col):\n",
    "  hist_cat = Counter(\n",
    "      df.drop_duplicates([\"userid\"])[col]\n",
    "      .apply(lambda x: x.split())\n",
    "      .explode()\n",
    "  )\n",
    "\n",
    "  hist_cat = pd.Series(hist_cat).to_frame(\"cnt\")\n",
    "  hist_cat[\"prob\"] = hist_cat[\"cnt\"] / hist_cat[\"cnt\"].sum()\n",
    "  hist_cat.sort_values(\"prob\", ascending=False, inplace=True)\n",
    "\n",
    "  return hist_cat\n",
    "\n",
    "def plot_cat_hist(df_train, df_test, col, title):\n",
    "  hist_cat_train = compute_cat_hist(df_train, col)\n",
    "  hist_cat_test = compute_cat_hist(df_test, col)\n",
    "\n",
    "  fig = go.Figure(data=[\n",
    "                        go.Bar(x=hist_cat_train.index, y=hist_cat_train[\"prob\"], name=\"Train dataset\"),\n",
    "                        go.Bar(x=hist_cat_test.index, y=hist_cat_test[\"prob\"], name=\"Test dataset\")\n",
    "  ])\n",
    "\n",
    "  fig.update_layout(title_text=title)\n",
    "\n",
    "  fig.show()"
   ]
  },
  {
   "cell_type": "code",
   "execution_count": null,
   "id": "10b6076e-f62a-4f2a-917b-96f8ba7bd322",
   "metadata": {
    "colab": {
     "base_uri": "https://localhost:8080/",
     "height": 542
    },
    "id": "10b6076e-f62a-4f2a-917b-96f8ba7bd322",
    "outputId": "defd54fe-d91d-4144-8f62-ce840cd0d643"
   },
   "outputs": [
    {
     "data": {
      "text/html": [
       "<html>\n",
       "<head><meta charset=\"utf-8\" /></head>\n",
       "<body>\n",
       "    <div>            <script src=\"https://cdnjs.cloudflare.com/ajax/libs/mathjax/2.7.5/MathJax.js?config=TeX-AMS-MML_SVG\"></script><script type=\"text/javascript\">if (window.MathJax) {MathJax.Hub.Config({SVG: {font: \"STIX-Web\"}});}</script>                <script type=\"text/javascript\">window.PlotlyConfig = {MathJaxConfig: 'local'};</script>\n",
       "        <script src=\"https://cdn.plot.ly/plotly-2.8.3.min.js\"></script>                <div id=\"d8491ef1-c1bf-4566-bf4e-27d942c16d3c\" class=\"plotly-graph-div\" style=\"height:525px; width:100%;\"></div>            <script type=\"text/javascript\">                                    window.PLOTLYENV=window.PLOTLYENV || {};                                    if (document.getElementById(\"d8491ef1-c1bf-4566-bf4e-27d942c16d3c\")) {                    Plotly.newPlot(                        \"d8491ef1-c1bf-4566-bf4e-27d942c16d3c\",                        [{\"name\":\"Train dataset\",\"x\":[\"news\",\"sports\",\"lifestyle\",\"tv\",\"finance\",\"foodanddrink\",\"health\",\"movies\",\"autos\",\"entertainment\",\"travel\",\"music\",\"video\",\"weather\",\"middleeast\",\"kids\"],\"y\":[0.30092122075638794,0.13943798671272226,0.1069321943615669,0.07734572520672185,0.07416497008238374,0.05303909169833806,0.04893896762710221,0.03755905365999253,0.03620614343244871,0.03508307544162933,0.03214523415041704,0.026517911899618853,0.019934184512119004,0.011743740066948359,1.9607394602084265e-05,1.0892997001157925e-05],\"type\":\"bar\"},{\"name\":\"Test dataset\",\"x\":[\"news\",\"sports\",\"lifestyle\",\"tv\",\"finance\",\"foodanddrink\",\"health\",\"movies\",\"autos\",\"entertainment\",\"travel\",\"music\",\"video\",\"weather\",\"middleeast\",\"kids\"],\"y\":[0.3003357723116986,0.14033088963740836,0.11015914687650372,0.07624755866285488,0.07331353137648956,0.05434363412493985,0.04889042995839112,0.03654133289931784,0.03636619349542868,0.034680255597384586,0.03217346231141555,0.026706990008208555,0.019197224659628066,0.010687041807014068,2.1229018653231056e-05,5.307254663307764e-06],\"type\":\"bar\"}],                        {\"template\":{\"data\":{\"bar\":[{\"error_x\":{\"color\":\"#2a3f5f\"},\"error_y\":{\"color\":\"#2a3f5f\"},\"marker\":{\"line\":{\"color\":\"#E5ECF6\",\"width\":0.5},\"pattern\":{\"fillmode\":\"overlay\",\"size\":10,\"solidity\":0.2}},\"type\":\"bar\"}],\"barpolar\":[{\"marker\":{\"line\":{\"color\":\"#E5ECF6\",\"width\":0.5},\"pattern\":{\"fillmode\":\"overlay\",\"size\":10,\"solidity\":0.2}},\"type\":\"barpolar\"}],\"carpet\":[{\"aaxis\":{\"endlinecolor\":\"#2a3f5f\",\"gridcolor\":\"white\",\"linecolor\":\"white\",\"minorgridcolor\":\"white\",\"startlinecolor\":\"#2a3f5f\"},\"baxis\":{\"endlinecolor\":\"#2a3f5f\",\"gridcolor\":\"white\",\"linecolor\":\"white\",\"minorgridcolor\":\"white\",\"startlinecolor\":\"#2a3f5f\"},\"type\":\"carpet\"}],\"choropleth\":[{\"colorbar\":{\"outlinewidth\":0,\"ticks\":\"\"},\"type\":\"choropleth\"}],\"contour\":[{\"colorbar\":{\"outlinewidth\":0,\"ticks\":\"\"},\"colorscale\":[[0.0,\"#0d0887\"],[0.1111111111111111,\"#46039f\"],[0.2222222222222222,\"#7201a8\"],[0.3333333333333333,\"#9c179e\"],[0.4444444444444444,\"#bd3786\"],[0.5555555555555556,\"#d8576b\"],[0.6666666666666666,\"#ed7953\"],[0.7777777777777778,\"#fb9f3a\"],[0.8888888888888888,\"#fdca26\"],[1.0,\"#f0f921\"]],\"type\":\"contour\"}],\"contourcarpet\":[{\"colorbar\":{\"outlinewidth\":0,\"ticks\":\"\"},\"type\":\"contourcarpet\"}],\"heatmap\":[{\"colorbar\":{\"outlinewidth\":0,\"ticks\":\"\"},\"colorscale\":[[0.0,\"#0d0887\"],[0.1111111111111111,\"#46039f\"],[0.2222222222222222,\"#7201a8\"],[0.3333333333333333,\"#9c179e\"],[0.4444444444444444,\"#bd3786\"],[0.5555555555555556,\"#d8576b\"],[0.6666666666666666,\"#ed7953\"],[0.7777777777777778,\"#fb9f3a\"],[0.8888888888888888,\"#fdca26\"],[1.0,\"#f0f921\"]],\"type\":\"heatmap\"}],\"heatmapgl\":[{\"colorbar\":{\"outlinewidth\":0,\"ticks\":\"\"},\"colorscale\":[[0.0,\"#0d0887\"],[0.1111111111111111,\"#46039f\"],[0.2222222222222222,\"#7201a8\"],[0.3333333333333333,\"#9c179e\"],[0.4444444444444444,\"#bd3786\"],[0.5555555555555556,\"#d8576b\"],[0.6666666666666666,\"#ed7953\"],[0.7777777777777778,\"#fb9f3a\"],[0.8888888888888888,\"#fdca26\"],[1.0,\"#f0f921\"]],\"type\":\"heatmapgl\"}],\"histogram\":[{\"marker\":{\"pattern\":{\"fillmode\":\"overlay\",\"size\":10,\"solidity\":0.2}},\"type\":\"histogram\"}],\"histogram2d\":[{\"colorbar\":{\"outlinewidth\":0,\"ticks\":\"\"},\"colorscale\":[[0.0,\"#0d0887\"],[0.1111111111111111,\"#46039f\"],[0.2222222222222222,\"#7201a8\"],[0.3333333333333333,\"#9c179e\"],[0.4444444444444444,\"#bd3786\"],[0.5555555555555556,\"#d8576b\"],[0.6666666666666666,\"#ed7953\"],[0.7777777777777778,\"#fb9f3a\"],[0.8888888888888888,\"#fdca26\"],[1.0,\"#f0f921\"]],\"type\":\"histogram2d\"}],\"histogram2dcontour\":[{\"colorbar\":{\"outlinewidth\":0,\"ticks\":\"\"},\"colorscale\":[[0.0,\"#0d0887\"],[0.1111111111111111,\"#46039f\"],[0.2222222222222222,\"#7201a8\"],[0.3333333333333333,\"#9c179e\"],[0.4444444444444444,\"#bd3786\"],[0.5555555555555556,\"#d8576b\"],[0.6666666666666666,\"#ed7953\"],[0.7777777777777778,\"#fb9f3a\"],[0.8888888888888888,\"#fdca26\"],[1.0,\"#f0f921\"]],\"type\":\"histogram2dcontour\"}],\"mesh3d\":[{\"colorbar\":{\"outlinewidth\":0,\"ticks\":\"\"},\"type\":\"mesh3d\"}],\"parcoords\":[{\"line\":{\"colorbar\":{\"outlinewidth\":0,\"ticks\":\"\"}},\"type\":\"parcoords\"}],\"pie\":[{\"automargin\":true,\"type\":\"pie\"}],\"scatter\":[{\"marker\":{\"colorbar\":{\"outlinewidth\":0,\"ticks\":\"\"}},\"type\":\"scatter\"}],\"scatter3d\":[{\"line\":{\"colorbar\":{\"outlinewidth\":0,\"ticks\":\"\"}},\"marker\":{\"colorbar\":{\"outlinewidth\":0,\"ticks\":\"\"}},\"type\":\"scatter3d\"}],\"scattercarpet\":[{\"marker\":{\"colorbar\":{\"outlinewidth\":0,\"ticks\":\"\"}},\"type\":\"scattercarpet\"}],\"scattergeo\":[{\"marker\":{\"colorbar\":{\"outlinewidth\":0,\"ticks\":\"\"}},\"type\":\"scattergeo\"}],\"scattergl\":[{\"marker\":{\"colorbar\":{\"outlinewidth\":0,\"ticks\":\"\"}},\"type\":\"scattergl\"}],\"scattermapbox\":[{\"marker\":{\"colorbar\":{\"outlinewidth\":0,\"ticks\":\"\"}},\"type\":\"scattermapbox\"}],\"scatterpolar\":[{\"marker\":{\"colorbar\":{\"outlinewidth\":0,\"ticks\":\"\"}},\"type\":\"scatterpolar\"}],\"scatterpolargl\":[{\"marker\":{\"colorbar\":{\"outlinewidth\":0,\"ticks\":\"\"}},\"type\":\"scatterpolargl\"}],\"scatterternary\":[{\"marker\":{\"colorbar\":{\"outlinewidth\":0,\"ticks\":\"\"}},\"type\":\"scatterternary\"}],\"surface\":[{\"colorbar\":{\"outlinewidth\":0,\"ticks\":\"\"},\"colorscale\":[[0.0,\"#0d0887\"],[0.1111111111111111,\"#46039f\"],[0.2222222222222222,\"#7201a8\"],[0.3333333333333333,\"#9c179e\"],[0.4444444444444444,\"#bd3786\"],[0.5555555555555556,\"#d8576b\"],[0.6666666666666666,\"#ed7953\"],[0.7777777777777778,\"#fb9f3a\"],[0.8888888888888888,\"#fdca26\"],[1.0,\"#f0f921\"]],\"type\":\"surface\"}],\"table\":[{\"cells\":{\"fill\":{\"color\":\"#EBF0F8\"},\"line\":{\"color\":\"white\"}},\"header\":{\"fill\":{\"color\":\"#C8D4E3\"},\"line\":{\"color\":\"white\"}},\"type\":\"table\"}]},\"layout\":{\"annotationdefaults\":{\"arrowcolor\":\"#2a3f5f\",\"arrowhead\":0,\"arrowwidth\":1},\"autotypenumbers\":\"strict\",\"coloraxis\":{\"colorbar\":{\"outlinewidth\":0,\"ticks\":\"\"}},\"colorscale\":{\"diverging\":[[0,\"#8e0152\"],[0.1,\"#c51b7d\"],[0.2,\"#de77ae\"],[0.3,\"#f1b6da\"],[0.4,\"#fde0ef\"],[0.5,\"#f7f7f7\"],[0.6,\"#e6f5d0\"],[0.7,\"#b8e186\"],[0.8,\"#7fbc41\"],[0.9,\"#4d9221\"],[1,\"#276419\"]],\"sequential\":[[0.0,\"#0d0887\"],[0.1111111111111111,\"#46039f\"],[0.2222222222222222,\"#7201a8\"],[0.3333333333333333,\"#9c179e\"],[0.4444444444444444,\"#bd3786\"],[0.5555555555555556,\"#d8576b\"],[0.6666666666666666,\"#ed7953\"],[0.7777777777777778,\"#fb9f3a\"],[0.8888888888888888,\"#fdca26\"],[1.0,\"#f0f921\"]],\"sequentialminus\":[[0.0,\"#0d0887\"],[0.1111111111111111,\"#46039f\"],[0.2222222222222222,\"#7201a8\"],[0.3333333333333333,\"#9c179e\"],[0.4444444444444444,\"#bd3786\"],[0.5555555555555556,\"#d8576b\"],[0.6666666666666666,\"#ed7953\"],[0.7777777777777778,\"#fb9f3a\"],[0.8888888888888888,\"#fdca26\"],[1.0,\"#f0f921\"]]},\"colorway\":[\"#636efa\",\"#EF553B\",\"#00cc96\",\"#ab63fa\",\"#FFA15A\",\"#19d3f3\",\"#FF6692\",\"#B6E880\",\"#FF97FF\",\"#FECB52\"],\"font\":{\"color\":\"#2a3f5f\"},\"geo\":{\"bgcolor\":\"white\",\"lakecolor\":\"white\",\"landcolor\":\"#E5ECF6\",\"showlakes\":true,\"showland\":true,\"subunitcolor\":\"white\"},\"hoverlabel\":{\"align\":\"left\"},\"hovermode\":\"closest\",\"mapbox\":{\"style\":\"light\"},\"paper_bgcolor\":\"white\",\"plot_bgcolor\":\"#E5ECF6\",\"polar\":{\"angularaxis\":{\"gridcolor\":\"white\",\"linecolor\":\"white\",\"ticks\":\"\"},\"bgcolor\":\"#E5ECF6\",\"radialaxis\":{\"gridcolor\":\"white\",\"linecolor\":\"white\",\"ticks\":\"\"}},\"scene\":{\"xaxis\":{\"backgroundcolor\":\"#E5ECF6\",\"gridcolor\":\"white\",\"gridwidth\":2,\"linecolor\":\"white\",\"showbackground\":true,\"ticks\":\"\",\"zerolinecolor\":\"white\"},\"yaxis\":{\"backgroundcolor\":\"#E5ECF6\",\"gridcolor\":\"white\",\"gridwidth\":2,\"linecolor\":\"white\",\"showbackground\":true,\"ticks\":\"\",\"zerolinecolor\":\"white\"},\"zaxis\":{\"backgroundcolor\":\"#E5ECF6\",\"gridcolor\":\"white\",\"gridwidth\":2,\"linecolor\":\"white\",\"showbackground\":true,\"ticks\":\"\",\"zerolinecolor\":\"white\"}},\"shapedefaults\":{\"line\":{\"color\":\"#2a3f5f\"}},\"ternary\":{\"aaxis\":{\"gridcolor\":\"white\",\"linecolor\":\"white\",\"ticks\":\"\"},\"baxis\":{\"gridcolor\":\"white\",\"linecolor\":\"white\",\"ticks\":\"\"},\"bgcolor\":\"#E5ECF6\",\"caxis\":{\"gridcolor\":\"white\",\"linecolor\":\"white\",\"ticks\":\"\"}},\"title\":{\"x\":0.05},\"xaxis\":{\"automargin\":true,\"gridcolor\":\"white\",\"linecolor\":\"white\",\"ticks\":\"\",\"title\":{\"standoff\":15},\"zerolinecolor\":\"white\",\"zerolinewidth\":2},\"yaxis\":{\"automargin\":true,\"gridcolor\":\"white\",\"linecolor\":\"white\",\"ticks\":\"\",\"title\":{\"standoff\":15},\"zerolinecolor\":\"white\",\"zerolinewidth\":2}}},\"title\":{\"text\":\"Distribution of categories among users - test vs train\"}},                        {\"responsive\": true}                    ).then(function(){\n",
       "                            \n",
       "var gd = document.getElementById('d8491ef1-c1bf-4566-bf4e-27d942c16d3c');\n",
       "var x = new MutationObserver(function (mutations, observer) {{\n",
       "        var display = window.getComputedStyle(gd).display;\n",
       "        if (!display || display === 'none') {{\n",
       "            console.log([gd, 'removed!']);\n",
       "            Plotly.purge(gd);\n",
       "            observer.disconnect();\n",
       "        }}\n",
       "}});\n",
       "\n",
       "// Listen for the removal of the full notebook cells\n",
       "var notebookContainer = gd.closest('#notebook-container');\n",
       "if (notebookContainer) {{\n",
       "    x.observe(notebookContainer, {childList: true});\n",
       "}}\n",
       "\n",
       "// Listen for the clearing of the current output cell\n",
       "var outputEl = gd.closest('.output');\n",
       "if (outputEl) {{\n",
       "    x.observe(outputEl, {childList: true});\n",
       "}}\n",
       "\n",
       "                        })                };                            </script>        </div>\n",
       "</body>\n",
       "</html>"
      ]
     },
     "metadata": {},
     "output_type": "display_data"
    }
   ],
   "source": [
    "plot_cat_hist(behaviors_train, behaviors_test, \"history_all_categories\", \"Distribution of categories among users - test vs train\")"
   ]
  },
  {
   "cell_type": "code",
   "execution_count": null,
   "id": "e01_PU0WWBiK",
   "metadata": {
    "colab": {
     "base_uri": "https://localhost:8080/",
     "height": 542
    },
    "id": "e01_PU0WWBiK",
    "outputId": "dfcaaae4-a7b8-4c49-e336-30e5730eba81"
   },
   "outputs": [
    {
     "data": {
      "text/html": [
       "<html>\n",
       "<head><meta charset=\"utf-8\" /></head>\n",
       "<body>\n",
       "    <div>            <script src=\"https://cdnjs.cloudflare.com/ajax/libs/mathjax/2.7.5/MathJax.js?config=TeX-AMS-MML_SVG\"></script><script type=\"text/javascript\">if (window.MathJax) {MathJax.Hub.Config({SVG: {font: \"STIX-Web\"}});}</script>                <script type=\"text/javascript\">window.PlotlyConfig = {MathJaxConfig: 'local'};</script>\n",
       "        <script src=\"https://cdn.plot.ly/plotly-2.8.3.min.js\"></script>                <div id=\"f796b093-e15e-4499-971d-d2103bbb45e8\" class=\"plotly-graph-div\" style=\"height:525px; width:100%;\"></div>            <script type=\"text/javascript\">                                    window.PLOTLYENV=window.PLOTLYENV || {};                                    if (document.getElementById(\"f796b093-e15e-4499-971d-d2103bbb45e8\")) {                    Plotly.newPlot(                        \"f796b093-e15e-4499-971d-d2103bbb45e8\",                        [{\"name\":\"Train dataset\",\"x\":[\"newsus\",\"newspolitics\",\"football_nfl\",\"newscrime\",\"tv-celebrity\",\"newsworld\",\"lifestylebuzz\",\"movies-celebrity\",\"lifestyleroyals\",\"finance-companies\",\"markets\",\"foodnews\",\"football_ncaa\",\"travelnews\",\"baseball_mlb\",\"celebrity\",\"tvnews\",\"music-celebrity\",\"entertainment-celebrity\",\"basketball_nba\",\"restaurantsandnews\",\"weathertopstories\",\"finance-real-estate\",\"autosnews\",\"autosenthusiasts\",\"health-news\",\"newsopinion\",\"nutrition\",\"musicnews\",\"wellness\",\"medical\",\"lifestylehomeandgarden\",\"recipes\",\"personalfinance\",\"tipsandtricks\",\"traveltripideas\",\"newsgoodnews\",\"tv-gallery\",\"more_sports\",\"lifestyledidyouknow\",\"viral\",\"voices\",\"animals\",\"movienews\",\"golf\",\"shop-holidays\",\"newsscienceandtechnology\",\"weightloss\",\"lifestylecelebstyle\",\"autosclassics\",\"popculture\",\"fitness\",\"movies-gallery\",\"finance-retirement\",\"traveltips\",\"autosownership\",\"humor\",\"science\",\"boxing\",\"news\",\"lifestylepetsanimals\",\"elections-2020-us\",\"mma\",\"newstrends\",\"basketball_ncaa\",\"music-gallery\",\"advice\",\"lifestylesmartliving\",\"autossuvs\",\"racing\",\"newsfactcheck\",\"movievideo\",\"travelarticle\",\"tv-recaps\",\"autossports\",\"healthnews\",\"finance-savemoney\",\"video\",\"lifestylevideo\",\"lifestylefamilyandrelationships\",\"movies-awards\",\"causes\",\"newsphotos\",\"finance-top-stocks\",\"football_nfl_videos\",\"lifestyle\",\"entertainment-books\",\"soccer\",\"finance-saving-investing\",\"shop-all\",\"videos\",\"autosmotorcycles\",\"autostrucks\",\"tvvideos\",\"autossema\",\"lifestyle-news-feature\",\"tv-reviews\",\"beverages\",\"financenews\",\"finance-taxes\",\"newsoffbeat\",\"quickandeasy\",\"factcheck\",\"lifestylecleaningandorganizing\",\"music-awards\",\"boxing-mma\",\"finance-healthcare\",\"autosresearch\",\"icehockey_nhl\",\"causes-environment\",\"autosluxury\",\"lifestylehoroscope\",\"lifestyleparenting\",\"finance-career-education\",\"lifestylefashion\",\"finance-education\",\"finance-career\",\"lifestylebeauty\",\"lifestyleweddings\",\"autosbuying\",\"autospassenger\",\"causes-green-living\",\"foodrecipes\",\"weatherfullscreenmaps\",\"baseball_mlb_videos\",\"lifestylefamily\",\"health-cancer\",\"lifestylediy\",\"lifestylelovesex\",\"football_ncaa_videos\",\"shop-books-movies-tv\",\"tennis\",\"peopleandplaces\",\"mentalhealth\",\"awards\",\"cma-awards\",\"autosresearchguides\",\"retirement\",\"finance-video\",\"autostokyo\",\"shop-apparel\",\"reviews\",\"ads-lung-health\",\"lifestylepets\",\"movies-oscars\",\"autoshybrids\",\"finance-homesandpropertysection\",\"lifestylerelationships\",\"wonder\",\"weight-loss\",\"newsbusiness\",\"newsworldpolitics\",\"finance-billstopay\",\"autosreview\",\"celebhub\",\"musicvideos\",\"outdoors\",\"gaming\",\"basketball_ncaa_videos\",\"tv\",\"music-grammys\",\"autosvideonew\",\"newsscience\",\"mmaufc\",\"finance-insurance\",\"sports_news\",\"yearinoffbeatgoodnews\",\"finance-home-loans\",\"career-news\",\"newsweather\",\"travel-points-rewards\",\"lifestylemindandsoul\",\"cocktails\",\"finance-credit\",\"autoscartech\",\"finance-small-business\",\"seasonal\",\"travel-videos\",\"basketball_nba_videos\",\"lifestyledecor\",\"finance-mutual-funds\",\"lifestyleshoppinghomegarden\",\"wines\",\"lifestylecareer\",\"finance-auto-insurance\",\"causes-food-insecurity\",\"causes-military-appreciation\",\"holidays\",\"finance-technology\",\"newsrealestate\",\"company-news\",\"middleeast-top-stories\",\"awardstyle\",\"othersports\",\"healthagingwell\",\"indepth\",\"foodtips\",\"pregnancyparenting\",\"lifestyleshopping\",\"soccer_epl\",\"golfvideos\",\"newsnational\",\"soccer_mls\",\"basketball_wnba\",\"celebritynews\",\"healthyliving\",\"fun\",\"autosvans\",\"autosvideos\",\"topnews\",\"narendramodi_opinion\",\"travel-adventure-travel\",\"tv-golden-globes\",\"games\",\"lifestylestyle\",\"tunedin\",\"music-reviews\",\"cooking\",\"shop-home-goods\",\"causes-animals\",\"newselection2020\",\"hollywood\",\"olympics-videos\",\"causes-disaster-relief\",\"technologyinvesting\",\"lifestyle-wedding\",\"lifestylemarriage\",\"baseball\",\"photos\",\"autoscompact\",\"newstvmedia\",\"newsvideo\",\"lifestylehoroscopefish\",\"finance-insidetheticker\",\"relationships\",\"halloween\",\"sports\",\"ads-latingrammys\",\"cookingschool\",\"people-places\",\"downtime\"],\"y\":[0.10507275977346923,0.06476976016888503,0.06316304311121423,0.05655644043001195,0.05146178573257039,0.0452342593470084,0.040955490124953566,0.025886118073551696,0.024788103975834974,0.02263564776840617,0.021389488911473704,0.021026752111335145,0.01983396893970835,0.019268622395348253,0.018631382070780515,0.016710946699476373,0.014628205672854978,0.014138020807802871,0.013900553473177629,0.013534548773938723,0.01144853984821698,0.0114223966554142,0.010932211790362094,0.010622850675529209,0.010438759026209641,0.009852715787547343,0.009725267722633796,0.009156653279173352,0.008998704822656562,0.008324428308284887,0.00829501721638176,0.007878904730937528,0.007865833134536138,0.007752545965724096,0.00744863134939179,0.007328808382379052,0.007217699812967241,0.006949732086738757,0.006631656574304945,0.006090274623347396,0.0057340736214095325,0.005657822642401426,0.005144762483646888,0.005023850216934036,0.004472664568675444,0.004448699975272897,0.004374627595665023,0.004002087098225422,0.0038833534309128006,0.0037929415558031897,0.003664404191189526,0.0034694195448687994,0.0034421870523659043,0.0032537382042458723,0.0029759667807163453,0.0024955856129652808,0.0024890498147645858,0.002450924325260533,0.002411709536056365,0.002388834242353933,0.0023550659516503435,0.002306047465145133,0.0022809935720424696,0.002278814972642238,0.002184045898732164,0.0021753315011312376,0.0021350274122269534,0.0019204353713041422,0.0018278448967943,0.0017613976150872366,0.0017417902204851523,0.0017352544222844575,0.001723272125583184,0.0016982182324805205,0.00169059313457971,0.0015097693843604885,0.0014901619897584042,0.0014106431116499513,0.0012744806491354773,0.0012668555512346667,0.001128514489319961,0.0011067284953176452,0.0010936568989162558,0.001091478299516024,0.0010707816052138242,0.0010130487211076871,0.0010054236232068766,0.001002155724106529,0.0009847269289046765,0.0009749232316036343,0.0009444228400003922,0.000903029451395992,0.000887779255594371,0.0008747076591929814,0.0008561895642910129,0.0008365821696889287,0.0008213319738873076,0.0008071710777858023,0.0007864743834836022,0.0007788492855827917,0.0007777599858826759,0.0007363665972782758,0.0007352772975781599,0.0007025983065746862,0.0006535798200694755,0.0006459547221686649,0.000608918532364728,0.0005795074404616016,0.0005631679449598647,0.000545739149758012,0.0005130601587545383,0.0004814704674511803,0.0004705774704500224,0.0004542379749482855,0.0004455235773473592,0.0004389877791466644,0.0004226482836449275,0.00042155898394481174,0.00040413018874295903,0.00038887999294133794,0.00038887999294133794,0.00038561209384099055,0.00033114710883520095,0.00032134341153415883,0.000320254111834043,0.0003104504145330009,0.00028648582113045346,0.0002799500229297587,0.0002777714235295271,0.00027014632562871656,0.0002516282307267481,0.00023637803492512698,0.00022657433762408486,0.00022548503792396905,0.00022548503792396905,0.00022221713882362168,0.0002211278391235059,0.00021132414182246375,0.00021132414182246375,0.0002080562427221164,0.00020152044452142163,0.00019934184512119003,0.00017210935261829523,0.00015576985711655833,0.0001437875604152846,0.0001437875604152846,0.0001339838631142425,0.00012962666431377931,0.00012744806491354774,0.00011873366731262138,0.00011437646851215822,0.00011110856941181084,0.00011001926971169505,0.00010784067031146346,0.00010130487211076871,9.694767331030553e-05,9.476907391007396e-05,9.476907391007396e-05,9.150117480972658e-05,9.041187510961078e-05,7.734027870822127e-05,7.625097900810548e-05,7.40723796078739e-05,6.862588110729493e-05,6.426868230683176e-05,6.317938260671596e-05,6.317938260671596e-05,5.88221838062528e-05,5.555428470590542e-05,5.555428470590542e-05,5.4464985005789626e-05,5.337568530567384e-05,5.2286385605558044e-05,4.901848650521067e-05,4.792918680509487e-05,4.792918680509487e-05,4.683988710497908e-05,4.0304088904284324e-05,3.921478920416853e-05,3.812548950405274e-05,3.812548950405274e-05,3.703618980393695e-05,3.703618980393695e-05,3.703618980393695e-05,3.376829070358957e-05,3.158969130335798e-05,3.050039160324219e-05,2.8321792203010608e-05,2.8321792203010608e-05,2.2875293702431645e-05,2.2875293702431645e-05,1.9607394602084265e-05,1.8518094901968474e-05,1.7428795201852682e-05,1.7428795201852682e-05,1.5250195801621095e-05,1.5250195801621095e-05,1.4160896101505304e-05,1.1982296701273718e-05,1.1982296701273718e-05,1.0892997001157925e-05,1.0892997001157925e-05,1.0892997001157925e-05,1.0892997001157925e-05,8.714397600926341e-06,7.6250979008105475e-06,7.6250979008105475e-06,6.5357982006947555e-06,6.5357982006947555e-06,6.5357982006947555e-06,6.5357982006947555e-06,5.446498500578963e-06,5.446498500578963e-06,4.357198800463171e-06,4.357198800463171e-06,3.2678991003473777e-06,3.2678991003473777e-06,3.2678991003473777e-06,3.2678991003473777e-06,3.2678991003473777e-06,2.1785994002315853e-06,2.1785994002315853e-06,2.1785994002315853e-06,2.1785994002315853e-06,2.1785994002315853e-06,2.1785994002315853e-06,2.1785994002315853e-06,2.1785994002315853e-06,2.1785994002315853e-06,2.1785994002315853e-06,2.1785994002315853e-06,2.1785994002315853e-06,1.0892997001157927e-06,1.0892997001157927e-06,1.0892997001157927e-06,1.0892997001157927e-06,1.0892997001157927e-06,1.0892997001157927e-06,1.0892997001157927e-06,1.0892997001157927e-06,1.0892997001157927e-06],\"type\":\"bar\"},{\"name\":\"Test dataset\",\"x\":[\"newsus\",\"football_nfl\",\"newspolitics\",\"newscrime\",\"tv-celebrity\",\"newsworld\",\"lifestylebuzz\",\"lifestyleroyals\",\"movies-celebrity\",\"finance-companies\",\"foodnews\",\"markets\",\"football_ncaa\",\"travelnews\",\"baseball_mlb\",\"celebrity\",\"music-celebrity\",\"entertainment-celebrity\",\"tvnews\",\"basketball_nba\",\"restaurantsandnews\",\"finance-real-estate\",\"autosnews\",\"weathertopstories\",\"autosenthusiasts\",\"health-news\",\"newsopinion\",\"musicnews\",\"nutrition\",\"wellness\",\"recipes\",\"medical\",\"personalfinance\",\"lifestylehomeandgarden\",\"tipsandtricks\",\"newsgoodnews\",\"traveltripideas\",\"more_sports\",\"tv-gallery\",\"lifestyledidyouknow\",\"voices\",\"viral\",\"animals\",\"shop-holidays\",\"golf\",\"movienews\",\"newsscienceandtechnology\",\"lifestylecelebstyle\",\"weightloss\",\"autosclassics\",\"popculture\",\"fitness\",\"movies-gallery\",\"finance-retirement\",\"traveltips\",\"autosownership\",\"advice\",\"humor\",\"science\",\"lifestylepetsanimals\",\"news\",\"music-gallery\",\"elections-2020-us\",\"basketball_ncaa\",\"mma\",\"boxing\",\"newstrends\",\"autossuvs\",\"tv-recaps\",\"autossports\",\"lifestylesmartliving\",\"racing\",\"healthnews\",\"movievideo\",\"newsfactcheck\",\"travelarticle\",\"finance-savemoney\",\"video\",\"lifestylefamilyandrelationships\",\"lifestylevideo\",\"newsphotos\",\"causes\",\"football_nfl_videos\",\"movies-awards\",\"soccer\",\"finance-top-stocks\",\"entertainment-books\",\"lifestyle\",\"autosmotorcycles\",\"beverages\",\"videos\",\"autossema\",\"tv-reviews\",\"finance-saving-investing\",\"tvvideos\",\"autostrucks\",\"shop-all\",\"quickandeasy\",\"finance-taxes\",\"lifestyle-news-feature\",\"newsoffbeat\",\"factcheck\",\"music-awards\",\"lifestylecleaningandorganizing\",\"autosresearch\",\"financenews\",\"boxing-mma\",\"finance-healthcare\",\"lifestyleparenting\",\"lifestylehoroscope\",\"causes-environment\",\"autosluxury\",\"lifestylefashion\",\"causes-green-living\",\"finance-career-education\",\"finance-career\",\"icehockey_nhl\",\"lifestylebeauty\",\"finance-education\",\"lifestyleweddings\",\"autospassenger\",\"autosbuying\",\"baseball_mlb_videos\",\"health-cancer\",\"weatherfullscreenmaps\",\"lifestylelovesex\",\"foodrecipes\",\"retirement\",\"lifestylediy\",\"football_ncaa_videos\",\"reviews\",\"lifestylefamily\",\"awards\",\"shop-books-movies-tv\",\"shop-apparel\",\"cma-awards\",\"finance-video\",\"peopleandplaces\",\"mentalhealth\",\"autostokyo\",\"autosresearchguides\",\"tennis\",\"ads-lung-health\",\"movies-oscars\",\"lifestylepets\",\"autoshybrids\",\"celebhub\",\"newsworldpolitics\",\"weight-loss\",\"lifestylerelationships\",\"autosreview\",\"musicvideos\",\"finance-homesandpropertysection\",\"outdoors\",\"newsbusiness\",\"gaming\",\"wonder\",\"autosvideonew\",\"basketball_ncaa_videos\",\"mmaufc\",\"finance-billstopay\",\"music-grammys\",\"finance-home-loans\",\"tv\",\"finance-insurance\",\"autoscartech\",\"career-news\",\"cocktails\",\"seasonal\",\"newsscience\",\"yearinoffbeatgoodnews\",\"wines\",\"sports_news\",\"lifestylemindandsoul\",\"lifestyledecor\",\"basketball_nba_videos\",\"lifestyleshoppinghomegarden\",\"newsrealestate\",\"newsweather\",\"causes-military-appreciation\",\"travel-points-rewards\",\"finance-credit\",\"holidays\",\"lifestylecareer\",\"finance-mutual-funds\",\"finance-auto-insurance\",\"finance-small-business\",\"causes-food-insecurity\",\"indepth\",\"company-news\",\"middleeast-top-stories\",\"travel-videos\",\"healthagingwell\",\"finance-technology\",\"foodtips\",\"pregnancyparenting\",\"awardstyle\",\"narendramodi_opinion\",\"golfvideos\",\"othersports\",\"soccer_mls\",\"lifestylestyle\",\"autosvideos\",\"lifestyleshopping\",\"healthyliving\",\"basketball_wnba\",\"newsnational\",\"soccer_epl\",\"travel-adventure-travel\",\"autoscompact\",\"topnews\",\"causes-animals\",\"newselection2020\",\"autosvans\",\"celebritynews\",\"lifestylemarriage\",\"tv-golden-globes\",\"shop-home-goods\",\"baseball\",\"ads-latingrammys\",\"causes-disaster-relief\",\"cooking\",\"downtime\",\"people-places\",\"games\",\"technologyinvesting\",\"hollywood\",\"newsvideo\",\"cookingschool\",\"newstvmedia\",\"tunedin\"],\"y\":[0.10505533697528942,0.06518635540207761,0.06145447083132837,0.05865224036910187,0.05167143140196439,0.0466419230660364,0.041959155368111185,0.026359364827761897,0.025774682272354157,0.02201537688584449,0.021996801494522912,0.0216465226867446,0.02027017464406012,0.01944401200147188,0.019097271363469105,0.016357843414758415,0.014446347193523734,0.013828936567692265,0.013822744770585071,0.012786945568796173,0.011219536358232614,0.010904639248209686,0.010555244982875259,0.010379221036542218,0.010377451951654449,0.009921912593053864,0.009151476124430355,0.00882950267485635,0.008718050326926888,0.008563255399247077,0.008350965212714766,0.008237743779897534,0.008062604376008378,0.007929923009425684,0.007768051742194798,0.0077370927566588355,0.007372661269778369,0.006401433666393048,0.0063289011859945085,0.006142262730334852,0.005945894307792465,0.005305485578419995,0.004987050298621529,0.004604043420419485,0.004556278128449716,0.004433326728749752,0.00410604602451244,0.004030859916782247,0.003931791163067169,0.003895524922867899,0.0038893331257607066,0.00347713634691047,0.003290497891250814,0.0030560941436213874,0.003026904242973195,0.0025430595261683037,0.002437798975346033,0.0024316071782388405,0.0024227617537999945,0.0023785346316057628,0.002193665260833876,0.0021538608508590677,0.002130862747318067,0.002048600300036797,0.0019636842254238725,0.001924764357892949,0.0018876135752497949,0.0018248110617339862,0.001806235670412409,0.0017947366186419089,0.001785006651759178,0.001716012341136177,0.0015868691443290215,0.0015488338192419825,0.0015461801919103286,0.0015046066970477512,0.0014674559144045969,0.0014126142828837498,0.00136484899091398,0.0012312830818874013,0.0011861714172492852,0.001125137988621246,0.001125137988621246,0.001092409918197515,0.0010835644937586685,0.0009915720795946673,0.0009862648249313595,0.0009818421127119363,0.0009314231934105126,0.0009243468538594356,0.0009155014294205894,0.0009075405474256277,0.000906656004981743,0.0008818888165529735,0.0008721588496702425,0.0008650825101191655,0.0008358926094709729,0.0008305853548076651,0.0007925500297206261,0.0007677828412918565,0.0007200175493220867,0.0006890585637861248,0.0006828667666789323,0.0006731367997962014,0.0006200642531631237,0.0005970661496221234,0.0005917588949588157,0.0005899898100710464,0.000552839027427892,0.0005077273627897761,0.0005024201081264683,0.0005015355656825837,0.0004856138016926604,0.00043254125505958277,0.00041219677885023635,0.00041219677885023635,0.00040512043929915936,0.00039627501486031304,0.0003945059299725438,0.00039008321775312066,0.0003803532508703898,0.0003688541990998896,0.0003272807042373121,0.000315781652466812,0.0003078207704718503,0.0002883608367063885,0.00027332361516034986,0.0002715545302725806,0.00026978544538481137,0.00026359364827761893,0.00026094002094596505,0.0002450182569560418,0.00024413371451215715,0.00024148008718050327,0.0002264428656344646,0.00021582835630784908,0.0002034447620934643,0.00020256021964957968,0.00019813750743015652,0.00019371479521073338,0.0001901766254351949,0.00018840754054742561,0.0001813312009963486,0.00014064224857765576,0.00013975770613377112,0.00013356590902657874,0.00012383594214384784,0.0001229513996999632,0.00012206685725607858,0.00012118231481219395,0.00012118231481219395,0.00011852868748054007,0.00011499051770500156,9.641512638342439e-05,9.199241416400124e-05,9.110787172011662e-05,9.022332927623199e-05,8.580061705680886e-05,8.226244728127035e-05,8.137790483738571e-05,7.960881994961646e-05,7.78397350618472e-05,7.076339551077019e-05,6.987885306688556e-05,6.45715984035778e-05,5.926434374027003e-05,5.83798012963854e-05,5.83798012963854e-05,5.4841631520846893e-05,5.307254663307764e-05,5.2188004189193015e-05,5.1303461745308384e-05,4.599620708200062e-05,4.599620708200062e-05,4.157349486257749e-05,4.0688952418692856e-05,4.0688952418692856e-05,4.0688952418692856e-05,3.89198675309236e-05,3.803532508703898e-05,3.715078264315435e-05,3.626624019926972e-05,3.007444309207733e-05,3.007444309207733e-05,2.8305358204308074e-05,2.653627331653882e-05,2.653627331653882e-05,2.4767188428769565e-05,2.3882645984884937e-05,2.2113561097115683e-05,2.1229018653231056e-05,2.0344476209346428e-05,1.8575391321577174e-05,1.680630643380792e-05,1.592176398992329e-05,1.5037221546038664e-05,1.326813665826941e-05,1.2383594214384782e-05,1.1499051770500155e-05,1.1499051770500155e-05,1.0614509326615528e-05,9.7299668827309e-06,8.845424438846273e-06,7.0763395510770185e-06,6.191797107192391e-06,5.307254663307764e-06,5.307254663307764e-06,5.307254663307764e-06,4.4227122194231366e-06,4.4227122194231366e-06,4.4227122194231366e-06,4.4227122194231366e-06,3.5381697755385093e-06,3.5381697755385093e-06,3.5381697755385093e-06,3.5381697755385093e-06,3.5381697755385093e-06,3.5381697755385093e-06,3.5381697755385093e-06,2.653627331653882e-06,1.7690848877692546e-06,1.7690848877692546e-06,1.7690848877692546e-06,8.845424438846273e-07,8.845424438846273e-07,8.845424438846273e-07,8.845424438846273e-07,8.845424438846273e-07,8.845424438846273e-07,8.845424438846273e-07,8.845424438846273e-07],\"type\":\"bar\"}],                        {\"template\":{\"data\":{\"bar\":[{\"error_x\":{\"color\":\"#2a3f5f\"},\"error_y\":{\"color\":\"#2a3f5f\"},\"marker\":{\"line\":{\"color\":\"#E5ECF6\",\"width\":0.5},\"pattern\":{\"fillmode\":\"overlay\",\"size\":10,\"solidity\":0.2}},\"type\":\"bar\"}],\"barpolar\":[{\"marker\":{\"line\":{\"color\":\"#E5ECF6\",\"width\":0.5},\"pattern\":{\"fillmode\":\"overlay\",\"size\":10,\"solidity\":0.2}},\"type\":\"barpolar\"}],\"carpet\":[{\"aaxis\":{\"endlinecolor\":\"#2a3f5f\",\"gridcolor\":\"white\",\"linecolor\":\"white\",\"minorgridcolor\":\"white\",\"startlinecolor\":\"#2a3f5f\"},\"baxis\":{\"endlinecolor\":\"#2a3f5f\",\"gridcolor\":\"white\",\"linecolor\":\"white\",\"minorgridcolor\":\"white\",\"startlinecolor\":\"#2a3f5f\"},\"type\":\"carpet\"}],\"choropleth\":[{\"colorbar\":{\"outlinewidth\":0,\"ticks\":\"\"},\"type\":\"choropleth\"}],\"contour\":[{\"colorbar\":{\"outlinewidth\":0,\"ticks\":\"\"},\"colorscale\":[[0.0,\"#0d0887\"],[0.1111111111111111,\"#46039f\"],[0.2222222222222222,\"#7201a8\"],[0.3333333333333333,\"#9c179e\"],[0.4444444444444444,\"#bd3786\"],[0.5555555555555556,\"#d8576b\"],[0.6666666666666666,\"#ed7953\"],[0.7777777777777778,\"#fb9f3a\"],[0.8888888888888888,\"#fdca26\"],[1.0,\"#f0f921\"]],\"type\":\"contour\"}],\"contourcarpet\":[{\"colorbar\":{\"outlinewidth\":0,\"ticks\":\"\"},\"type\":\"contourcarpet\"}],\"heatmap\":[{\"colorbar\":{\"outlinewidth\":0,\"ticks\":\"\"},\"colorscale\":[[0.0,\"#0d0887\"],[0.1111111111111111,\"#46039f\"],[0.2222222222222222,\"#7201a8\"],[0.3333333333333333,\"#9c179e\"],[0.4444444444444444,\"#bd3786\"],[0.5555555555555556,\"#d8576b\"],[0.6666666666666666,\"#ed7953\"],[0.7777777777777778,\"#fb9f3a\"],[0.8888888888888888,\"#fdca26\"],[1.0,\"#f0f921\"]],\"type\":\"heatmap\"}],\"heatmapgl\":[{\"colorbar\":{\"outlinewidth\":0,\"ticks\":\"\"},\"colorscale\":[[0.0,\"#0d0887\"],[0.1111111111111111,\"#46039f\"],[0.2222222222222222,\"#7201a8\"],[0.3333333333333333,\"#9c179e\"],[0.4444444444444444,\"#bd3786\"],[0.5555555555555556,\"#d8576b\"],[0.6666666666666666,\"#ed7953\"],[0.7777777777777778,\"#fb9f3a\"],[0.8888888888888888,\"#fdca26\"],[1.0,\"#f0f921\"]],\"type\":\"heatmapgl\"}],\"histogram\":[{\"marker\":{\"pattern\":{\"fillmode\":\"overlay\",\"size\":10,\"solidity\":0.2}},\"type\":\"histogram\"}],\"histogram2d\":[{\"colorbar\":{\"outlinewidth\":0,\"ticks\":\"\"},\"colorscale\":[[0.0,\"#0d0887\"],[0.1111111111111111,\"#46039f\"],[0.2222222222222222,\"#7201a8\"],[0.3333333333333333,\"#9c179e\"],[0.4444444444444444,\"#bd3786\"],[0.5555555555555556,\"#d8576b\"],[0.6666666666666666,\"#ed7953\"],[0.7777777777777778,\"#fb9f3a\"],[0.8888888888888888,\"#fdca26\"],[1.0,\"#f0f921\"]],\"type\":\"histogram2d\"}],\"histogram2dcontour\":[{\"colorbar\":{\"outlinewidth\":0,\"ticks\":\"\"},\"colorscale\":[[0.0,\"#0d0887\"],[0.1111111111111111,\"#46039f\"],[0.2222222222222222,\"#7201a8\"],[0.3333333333333333,\"#9c179e\"],[0.4444444444444444,\"#bd3786\"],[0.5555555555555556,\"#d8576b\"],[0.6666666666666666,\"#ed7953\"],[0.7777777777777778,\"#fb9f3a\"],[0.8888888888888888,\"#fdca26\"],[1.0,\"#f0f921\"]],\"type\":\"histogram2dcontour\"}],\"mesh3d\":[{\"colorbar\":{\"outlinewidth\":0,\"ticks\":\"\"},\"type\":\"mesh3d\"}],\"parcoords\":[{\"line\":{\"colorbar\":{\"outlinewidth\":0,\"ticks\":\"\"}},\"type\":\"parcoords\"}],\"pie\":[{\"automargin\":true,\"type\":\"pie\"}],\"scatter\":[{\"marker\":{\"colorbar\":{\"outlinewidth\":0,\"ticks\":\"\"}},\"type\":\"scatter\"}],\"scatter3d\":[{\"line\":{\"colorbar\":{\"outlinewidth\":0,\"ticks\":\"\"}},\"marker\":{\"colorbar\":{\"outlinewidth\":0,\"ticks\":\"\"}},\"type\":\"scatter3d\"}],\"scattercarpet\":[{\"marker\":{\"colorbar\":{\"outlinewidth\":0,\"ticks\":\"\"}},\"type\":\"scattercarpet\"}],\"scattergeo\":[{\"marker\":{\"colorbar\":{\"outlinewidth\":0,\"ticks\":\"\"}},\"type\":\"scattergeo\"}],\"scattergl\":[{\"marker\":{\"colorbar\":{\"outlinewidth\":0,\"ticks\":\"\"}},\"type\":\"scattergl\"}],\"scattermapbox\":[{\"marker\":{\"colorbar\":{\"outlinewidth\":0,\"ticks\":\"\"}},\"type\":\"scattermapbox\"}],\"scatterpolar\":[{\"marker\":{\"colorbar\":{\"outlinewidth\":0,\"ticks\":\"\"}},\"type\":\"scatterpolar\"}],\"scatterpolargl\":[{\"marker\":{\"colorbar\":{\"outlinewidth\":0,\"ticks\":\"\"}},\"type\":\"scatterpolargl\"}],\"scatterternary\":[{\"marker\":{\"colorbar\":{\"outlinewidth\":0,\"ticks\":\"\"}},\"type\":\"scatterternary\"}],\"surface\":[{\"colorbar\":{\"outlinewidth\":0,\"ticks\":\"\"},\"colorscale\":[[0.0,\"#0d0887\"],[0.1111111111111111,\"#46039f\"],[0.2222222222222222,\"#7201a8\"],[0.3333333333333333,\"#9c179e\"],[0.4444444444444444,\"#bd3786\"],[0.5555555555555556,\"#d8576b\"],[0.6666666666666666,\"#ed7953\"],[0.7777777777777778,\"#fb9f3a\"],[0.8888888888888888,\"#fdca26\"],[1.0,\"#f0f921\"]],\"type\":\"surface\"}],\"table\":[{\"cells\":{\"fill\":{\"color\":\"#EBF0F8\"},\"line\":{\"color\":\"white\"}},\"header\":{\"fill\":{\"color\":\"#C8D4E3\"},\"line\":{\"color\":\"white\"}},\"type\":\"table\"}]},\"layout\":{\"annotationdefaults\":{\"arrowcolor\":\"#2a3f5f\",\"arrowhead\":0,\"arrowwidth\":1},\"autotypenumbers\":\"strict\",\"coloraxis\":{\"colorbar\":{\"outlinewidth\":0,\"ticks\":\"\"}},\"colorscale\":{\"diverging\":[[0,\"#8e0152\"],[0.1,\"#c51b7d\"],[0.2,\"#de77ae\"],[0.3,\"#f1b6da\"],[0.4,\"#fde0ef\"],[0.5,\"#f7f7f7\"],[0.6,\"#e6f5d0\"],[0.7,\"#b8e186\"],[0.8,\"#7fbc41\"],[0.9,\"#4d9221\"],[1,\"#276419\"]],\"sequential\":[[0.0,\"#0d0887\"],[0.1111111111111111,\"#46039f\"],[0.2222222222222222,\"#7201a8\"],[0.3333333333333333,\"#9c179e\"],[0.4444444444444444,\"#bd3786\"],[0.5555555555555556,\"#d8576b\"],[0.6666666666666666,\"#ed7953\"],[0.7777777777777778,\"#fb9f3a\"],[0.8888888888888888,\"#fdca26\"],[1.0,\"#f0f921\"]],\"sequentialminus\":[[0.0,\"#0d0887\"],[0.1111111111111111,\"#46039f\"],[0.2222222222222222,\"#7201a8\"],[0.3333333333333333,\"#9c179e\"],[0.4444444444444444,\"#bd3786\"],[0.5555555555555556,\"#d8576b\"],[0.6666666666666666,\"#ed7953\"],[0.7777777777777778,\"#fb9f3a\"],[0.8888888888888888,\"#fdca26\"],[1.0,\"#f0f921\"]]},\"colorway\":[\"#636efa\",\"#EF553B\",\"#00cc96\",\"#ab63fa\",\"#FFA15A\",\"#19d3f3\",\"#FF6692\",\"#B6E880\",\"#FF97FF\",\"#FECB52\"],\"font\":{\"color\":\"#2a3f5f\"},\"geo\":{\"bgcolor\":\"white\",\"lakecolor\":\"white\",\"landcolor\":\"#E5ECF6\",\"showlakes\":true,\"showland\":true,\"subunitcolor\":\"white\"},\"hoverlabel\":{\"align\":\"left\"},\"hovermode\":\"closest\",\"mapbox\":{\"style\":\"light\"},\"paper_bgcolor\":\"white\",\"plot_bgcolor\":\"#E5ECF6\",\"polar\":{\"angularaxis\":{\"gridcolor\":\"white\",\"linecolor\":\"white\",\"ticks\":\"\"},\"bgcolor\":\"#E5ECF6\",\"radialaxis\":{\"gridcolor\":\"white\",\"linecolor\":\"white\",\"ticks\":\"\"}},\"scene\":{\"xaxis\":{\"backgroundcolor\":\"#E5ECF6\",\"gridcolor\":\"white\",\"gridwidth\":2,\"linecolor\":\"white\",\"showbackground\":true,\"ticks\":\"\",\"zerolinecolor\":\"white\"},\"yaxis\":{\"backgroundcolor\":\"#E5ECF6\",\"gridcolor\":\"white\",\"gridwidth\":2,\"linecolor\":\"white\",\"showbackground\":true,\"ticks\":\"\",\"zerolinecolor\":\"white\"},\"zaxis\":{\"backgroundcolor\":\"#E5ECF6\",\"gridcolor\":\"white\",\"gridwidth\":2,\"linecolor\":\"white\",\"showbackground\":true,\"ticks\":\"\",\"zerolinecolor\":\"white\"}},\"shapedefaults\":{\"line\":{\"color\":\"#2a3f5f\"}},\"ternary\":{\"aaxis\":{\"gridcolor\":\"white\",\"linecolor\":\"white\",\"ticks\":\"\"},\"baxis\":{\"gridcolor\":\"white\",\"linecolor\":\"white\",\"ticks\":\"\"},\"bgcolor\":\"#E5ECF6\",\"caxis\":{\"gridcolor\":\"white\",\"linecolor\":\"white\",\"ticks\":\"\"}},\"title\":{\"x\":0.05},\"xaxis\":{\"automargin\":true,\"gridcolor\":\"white\",\"linecolor\":\"white\",\"ticks\":\"\",\"title\":{\"standoff\":15},\"zerolinecolor\":\"white\",\"zerolinewidth\":2},\"yaxis\":{\"automargin\":true,\"gridcolor\":\"white\",\"linecolor\":\"white\",\"ticks\":\"\",\"title\":{\"standoff\":15},\"zerolinecolor\":\"white\",\"zerolinewidth\":2}}},\"title\":{\"text\":\"Distribution of subcategories among users - test vs train\"}},                        {\"responsive\": true}                    ).then(function(){\n",
       "                            \n",
       "var gd = document.getElementById('f796b093-e15e-4499-971d-d2103bbb45e8');\n",
       "var x = new MutationObserver(function (mutations, observer) {{\n",
       "        var display = window.getComputedStyle(gd).display;\n",
       "        if (!display || display === 'none') {{\n",
       "            console.log([gd, 'removed!']);\n",
       "            Plotly.purge(gd);\n",
       "            observer.disconnect();\n",
       "        }}\n",
       "}});\n",
       "\n",
       "// Listen for the removal of the full notebook cells\n",
       "var notebookContainer = gd.closest('#notebook-container');\n",
       "if (notebookContainer) {{\n",
       "    x.observe(notebookContainer, {childList: true});\n",
       "}}\n",
       "\n",
       "// Listen for the clearing of the current output cell\n",
       "var outputEl = gd.closest('.output');\n",
       "if (outputEl) {{\n",
       "    x.observe(outputEl, {childList: true});\n",
       "}}\n",
       "\n",
       "                        })                };                            </script>        </div>\n",
       "</body>\n",
       "</html>"
      ]
     },
     "metadata": {},
     "output_type": "display_data"
    }
   ],
   "source": [
    "plot_cat_hist(behaviors_train, behaviors_test, \"history_all_subcategories\", \"Distribution of subcategories among users - test vs train\")"
   ]
  }
 ],
 "metadata": {
  "colab": {
   "collapsed_sections": [],
   "name": "002_exploratory_data_analysis.ipynb",
   "provenance": []
  },
  "kernelspec": {
   "display_name": "Python 3 (ipykernel)",
   "language": "python",
   "name": "python3"
  },
  "language_info": {
   "codemirror_mode": {
    "name": "ipython",
    "version": 3
   },
   "file_extension": ".py",
   "mimetype": "text/x-python",
   "name": "python",
   "nbconvert_exporter": "python",
   "pygments_lexer": "ipython3",
   "version": "3.9.7"
  }
 },
 "nbformat": 4,
 "nbformat_minor": 5
}
