{
 "cells": [
  {
   "cell_type": "markdown",
   "id": "63f12a4b-cd28-4731-af17-29aba409d35a",
   "metadata": {},
   "source": [
    "# 3. Trénink modelu predikce prokliku"
   ]
  },
  {
   "cell_type": "code",
   "execution_count": null,
   "id": "84cbd3a6-c9fe-4445-867e-17e9edede911",
   "metadata": {},
   "outputs": [],
   "source": []
  }
 ],
 "metadata": {
  "kernelspec": {
   "display_name": "Python 3 (ipykernel)",
   "language": "python",
   "name": "python3"
  },
  "language_info": {
   "codemirror_mode": {
    "name": "ipython",
    "version": 3
   },
   "file_extension": ".py",
   "mimetype": "text/x-python",
   "name": "python",
   "nbconvert_exporter": "python",
   "pygments_lexer": "ipython3",
   "version": "3.9.7"
  }
 },
 "nbformat": 4,
 "nbformat_minor": 5
}
